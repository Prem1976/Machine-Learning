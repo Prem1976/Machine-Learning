{
 "cells": [
  {
   "cell_type": "markdown",
   "metadata": {},
   "source": [
    "# Part 1 - Setup and Data Preparation\n",
    "In this section, we will:\n",
    "- Import necessary packages for this demonstration\n",
    "- Load the data\n",
    "- Ensure that qualitative predictor variables are of the *category* data type\n",
    "- Conduct basic EDA on the dataset"
   ]
  },
  {
   "cell_type": "code",
   "execution_count": 1,
   "metadata": {},
   "outputs": [],
   "source": [
    "# Suppress warnings\n",
    "import warnings\n",
    "warnings.filterwarnings('ignore')\n",
    "\n",
    "# Import 'numpy' and 'pandas' for working with numbers and data frames\n",
    "import numpy as np\n",
    "import pandas as pd\n",
    "\n",
    "# Import 'pyplot' from 'matplotlib' and 'seaborn' for visualizations\n",
    "from matplotlib import pyplot as plt\n",
    "import seaborn as sns\n",
    "\n",
    "# Import method for regression from 'statsmodels'\n",
    "import statsmodels.formula.api as smf\n",
    "\n",
    "# Import method for regression from 'sklearn'\n",
    "from sklearn.linear_model import LinearRegression\n",
    "\n",
    "# Import 'train_test_split' from 'sklearn' for train-validation-test split\n",
    "from sklearn.model_selection import train_test_split\n",
    "\n",
    "# Import 'mean_squared_error' from 'sklearn' for error computations\n",
    "from sklearn.metrics import mean_squared_error\n",
    "\n",
    "# Import the min-max scaled from 'sklearn'\n",
    "from sklearn.preprocessing import MinMaxScaler\n",
    "\n",
    "# Import the ridge and LASSO regression models from 'sklearn'\n",
    "from sklearn.linear_model import Lasso\n",
    "from sklearn.linear_model import Ridge\n",
    "\n",
    "# Import method to compute VIFs\n",
    "from statsmodels.stats.outliers_influence import variance_inflation_factor"
   ]
  },
  {
   "cell_type": "code",
   "execution_count": 2,
   "metadata": {},
   "outputs": [],
   "source": [
    "# Data source\n",
    "# link = 'https://archive.ics.uci.edu/dataset/10/automobile'"
   ]
  },
  {
   "cell_type": "code",
   "execution_count": 3,
   "metadata": {},
   "outputs": [
    {
     "data": {
      "text/html": [
       "<div>\n",
       "<style scoped>\n",
       "    .dataframe tbody tr th:only-of-type {\n",
       "        vertical-align: middle;\n",
       "    }\n",
       "\n",
       "    .dataframe tbody tr th {\n",
       "        vertical-align: top;\n",
       "    }\n",
       "\n",
       "    .dataframe thead th {\n",
       "        text-align: right;\n",
       "    }\n",
       "</style>\n",
       "<table border=\"1\" class=\"dataframe\">\n",
       "  <thead>\n",
       "    <tr style=\"text-align: right;\">\n",
       "      <th></th>\n",
       "      <th>symboling</th>\n",
       "      <th>carname</th>\n",
       "      <th>doornumber</th>\n",
       "      <th>carbody</th>\n",
       "      <th>enginelocation</th>\n",
       "      <th>wheelbase</th>\n",
       "      <th>carlength</th>\n",
       "      <th>carwidth</th>\n",
       "      <th>carheight</th>\n",
       "      <th>curbweight</th>\n",
       "      <th>cylindernumber</th>\n",
       "      <th>enginesize</th>\n",
       "      <th>boreratio</th>\n",
       "      <th>stroke</th>\n",
       "      <th>compressionratio</th>\n",
       "      <th>horsepower</th>\n",
       "      <th>peakrpm</th>\n",
       "      <th>citympg</th>\n",
       "      <th>highwaympg</th>\n",
       "      <th>price</th>\n",
       "    </tr>\n",
       "    <tr>\n",
       "      <th>car_ID</th>\n",
       "      <th></th>\n",
       "      <th></th>\n",
       "      <th></th>\n",
       "      <th></th>\n",
       "      <th></th>\n",
       "      <th></th>\n",
       "      <th></th>\n",
       "      <th></th>\n",
       "      <th></th>\n",
       "      <th></th>\n",
       "      <th></th>\n",
       "      <th></th>\n",
       "      <th></th>\n",
       "      <th></th>\n",
       "      <th></th>\n",
       "      <th></th>\n",
       "      <th></th>\n",
       "      <th></th>\n",
       "      <th></th>\n",
       "      <th></th>\n",
       "    </tr>\n",
       "  </thead>\n",
       "  <tbody>\n",
       "    <tr>\n",
       "      <th>1</th>\n",
       "      <td>3</td>\n",
       "      <td>alfa-romero giulia</td>\n",
       "      <td>two</td>\n",
       "      <td>convertible</td>\n",
       "      <td>front</td>\n",
       "      <td>88.6</td>\n",
       "      <td>168.8</td>\n",
       "      <td>64.1</td>\n",
       "      <td>48.8</td>\n",
       "      <td>2548</td>\n",
       "      <td>four</td>\n",
       "      <td>130</td>\n",
       "      <td>3.47</td>\n",
       "      <td>2.68</td>\n",
       "      <td>9.0</td>\n",
       "      <td>111</td>\n",
       "      <td>5000</td>\n",
       "      <td>21</td>\n",
       "      <td>27</td>\n",
       "      <td>13495.0</td>\n",
       "    </tr>\n",
       "    <tr>\n",
       "      <th>2</th>\n",
       "      <td>3</td>\n",
       "      <td>alfa-romero stelvio</td>\n",
       "      <td>two</td>\n",
       "      <td>convertible</td>\n",
       "      <td>front</td>\n",
       "      <td>88.6</td>\n",
       "      <td>168.8</td>\n",
       "      <td>64.1</td>\n",
       "      <td>48.8</td>\n",
       "      <td>2548</td>\n",
       "      <td>four</td>\n",
       "      <td>130</td>\n",
       "      <td>3.47</td>\n",
       "      <td>2.68</td>\n",
       "      <td>9.0</td>\n",
       "      <td>111</td>\n",
       "      <td>5000</td>\n",
       "      <td>21</td>\n",
       "      <td>27</td>\n",
       "      <td>16500.0</td>\n",
       "    </tr>\n",
       "    <tr>\n",
       "      <th>3</th>\n",
       "      <td>1</td>\n",
       "      <td>alfa-romero Quadrifoglio</td>\n",
       "      <td>two</td>\n",
       "      <td>hatchback</td>\n",
       "      <td>front</td>\n",
       "      <td>94.5</td>\n",
       "      <td>171.2</td>\n",
       "      <td>65.5</td>\n",
       "      <td>52.4</td>\n",
       "      <td>2823</td>\n",
       "      <td>six</td>\n",
       "      <td>152</td>\n",
       "      <td>2.68</td>\n",
       "      <td>3.47</td>\n",
       "      <td>9.0</td>\n",
       "      <td>154</td>\n",
       "      <td>5000</td>\n",
       "      <td>19</td>\n",
       "      <td>26</td>\n",
       "      <td>16500.0</td>\n",
       "    </tr>\n",
       "    <tr>\n",
       "      <th>4</th>\n",
       "      <td>2</td>\n",
       "      <td>audi 100 ls</td>\n",
       "      <td>four</td>\n",
       "      <td>sedan</td>\n",
       "      <td>front</td>\n",
       "      <td>99.8</td>\n",
       "      <td>176.6</td>\n",
       "      <td>66.2</td>\n",
       "      <td>54.3</td>\n",
       "      <td>2337</td>\n",
       "      <td>four</td>\n",
       "      <td>109</td>\n",
       "      <td>3.19</td>\n",
       "      <td>3.40</td>\n",
       "      <td>10.0</td>\n",
       "      <td>102</td>\n",
       "      <td>5500</td>\n",
       "      <td>24</td>\n",
       "      <td>30</td>\n",
       "      <td>13950.0</td>\n",
       "    </tr>\n",
       "    <tr>\n",
       "      <th>5</th>\n",
       "      <td>2</td>\n",
       "      <td>audi 100ls</td>\n",
       "      <td>four</td>\n",
       "      <td>sedan</td>\n",
       "      <td>front</td>\n",
       "      <td>99.4</td>\n",
       "      <td>176.6</td>\n",
       "      <td>66.4</td>\n",
       "      <td>54.3</td>\n",
       "      <td>2824</td>\n",
       "      <td>five</td>\n",
       "      <td>136</td>\n",
       "      <td>3.19</td>\n",
       "      <td>3.40</td>\n",
       "      <td>8.0</td>\n",
       "      <td>115</td>\n",
       "      <td>5500</td>\n",
       "      <td>18</td>\n",
       "      <td>22</td>\n",
       "      <td>17450.0</td>\n",
       "    </tr>\n",
       "  </tbody>\n",
       "</table>\n",
       "</div>"
      ],
      "text/plain": [
       "        symboling                   carname doornumber      carbody  \\\n",
       "car_ID                                                                \n",
       "1               3        alfa-romero giulia        two  convertible   \n",
       "2               3       alfa-romero stelvio        two  convertible   \n",
       "3               1  alfa-romero Quadrifoglio        two    hatchback   \n",
       "4               2               audi 100 ls       four        sedan   \n",
       "5               2                audi 100ls       four        sedan   \n",
       "\n",
       "       enginelocation  wheelbase  carlength  carwidth  carheight  curbweight  \\\n",
       "car_ID                                                                         \n",
       "1               front       88.6      168.8      64.1       48.8        2548   \n",
       "2               front       88.6      168.8      64.1       48.8        2548   \n",
       "3               front       94.5      171.2      65.5       52.4        2823   \n",
       "4               front       99.8      176.6      66.2       54.3        2337   \n",
       "5               front       99.4      176.6      66.4       54.3        2824   \n",
       "\n",
       "       cylindernumber  enginesize  boreratio  stroke  compressionratio  \\\n",
       "car_ID                                                                   \n",
       "1                four         130       3.47    2.68               9.0   \n",
       "2                four         130       3.47    2.68               9.0   \n",
       "3                 six         152       2.68    3.47               9.0   \n",
       "4                four         109       3.19    3.40              10.0   \n",
       "5                five         136       3.19    3.40               8.0   \n",
       "\n",
       "        horsepower  peakrpm  citympg  highwaympg    price  \n",
       "car_ID                                                     \n",
       "1              111     5000       21          27  13495.0  \n",
       "2              111     5000       21          27  16500.0  \n",
       "3              154     5000       19          26  16500.0  \n",
       "4              102     5500       24          30  13950.0  \n",
       "5              115     5500       18          22  17450.0  "
      ]
     },
     "execution_count": 3,
     "metadata": {},
     "output_type": "execute_result"
    }
   ],
   "source": [
    "# Load the data and take a look at it\n",
    "df = pd.read_csv(r'carprices.csv', index_col = 'car_ID')\n",
    "df.head()"
   ]
  },
  {
   "cell_type": "code",
   "execution_count": 4,
   "metadata": {},
   "outputs": [
    {
     "data": {
      "text/html": [
       "<div>\n",
       "<style scoped>\n",
       "    .dataframe tbody tr th:only-of-type {\n",
       "        vertical-align: middle;\n",
       "    }\n",
       "\n",
       "    .dataframe tbody tr th {\n",
       "        vertical-align: top;\n",
       "    }\n",
       "\n",
       "    .dataframe thead th {\n",
       "        text-align: right;\n",
       "    }\n",
       "</style>\n",
       "<table border=\"1\" class=\"dataframe\">\n",
       "  <thead>\n",
       "    <tr style=\"text-align: right;\">\n",
       "      <th></th>\n",
       "      <th>description</th>\n",
       "    </tr>\n",
       "    <tr>\n",
       "      <th>feature</th>\n",
       "      <th></th>\n",
       "    </tr>\n",
       "  </thead>\n",
       "  <tbody>\n",
       "    <tr>\n",
       "      <th>car_ID</th>\n",
       "      <td>unique id of each observation (Integer)</td>\n",
       "    </tr>\n",
       "    <tr>\n",
       "      <th>symboling</th>\n",
       "      <td>risk rating (Categorical)</td>\n",
       "    </tr>\n",
       "    <tr>\n",
       "      <th>carcompany</th>\n",
       "      <td>name of car company (Categorical)</td>\n",
       "    </tr>\n",
       "    <tr>\n",
       "      <th>doornumber</th>\n",
       "      <td>number of doors in a car (Categorical)</td>\n",
       "    </tr>\n",
       "    <tr>\n",
       "      <th>carbody</th>\n",
       "      <td>body of car (Categorical)</td>\n",
       "    </tr>\n",
       "    <tr>\n",
       "      <th>enginelocation</th>\n",
       "      <td>location of car engine (Categorical)</td>\n",
       "    </tr>\n",
       "    <tr>\n",
       "      <th>wheelbase</th>\n",
       "      <td>wheelbase of car (Numeric)</td>\n",
       "    </tr>\n",
       "    <tr>\n",
       "      <th>carlength</th>\n",
       "      <td>length of car (Numeric)</td>\n",
       "    </tr>\n",
       "    <tr>\n",
       "      <th>carwidth</th>\n",
       "      <td>width of car (Numeric)</td>\n",
       "    </tr>\n",
       "    <tr>\n",
       "      <th>carheight</th>\n",
       "      <td>height of car (Numeric)</td>\n",
       "    </tr>\n",
       "    <tr>\n",
       "      <th>curbweight</th>\n",
       "      <td>the weight of a car without occupants or bagga...</td>\n",
       "    </tr>\n",
       "    <tr>\n",
       "      <th>cylindernumber</th>\n",
       "      <td>cylinder placed in the car (Categorical)</td>\n",
       "    </tr>\n",
       "    <tr>\n",
       "      <th>enginesize</th>\n",
       "      <td>size of car (Numeric)</td>\n",
       "    </tr>\n",
       "    <tr>\n",
       "      <th>fuelsystem</th>\n",
       "      <td>fuel system of car (Categorical)</td>\n",
       "    </tr>\n",
       "    <tr>\n",
       "      <th>boreratio</th>\n",
       "      <td>boreratio of car (Numeric)</td>\n",
       "    </tr>\n",
       "    <tr>\n",
       "      <th>stroke</th>\n",
       "      <td>stroke or volume inside the engine (Numeric)</td>\n",
       "    </tr>\n",
       "    <tr>\n",
       "      <th>compressionratio</th>\n",
       "      <td>compression ratio of car (Numeric)</td>\n",
       "    </tr>\n",
       "    <tr>\n",
       "      <th>horsepower</th>\n",
       "      <td>horsepower (Numeric)</td>\n",
       "    </tr>\n",
       "    <tr>\n",
       "      <th>peakrpm</th>\n",
       "      <td>car peak rpm (Numeric)</td>\n",
       "    </tr>\n",
       "    <tr>\n",
       "      <th>citympg</th>\n",
       "      <td>mileage in city (Numeric)</td>\n",
       "    </tr>\n",
       "    <tr>\n",
       "      <th>highwaympg</th>\n",
       "      <td>mileage on highway (Numeric)</td>\n",
       "    </tr>\n",
       "    <tr>\n",
       "      <th>price</th>\n",
       "      <td>price of car (Numeric)</td>\n",
       "    </tr>\n",
       "  </tbody>\n",
       "</table>\n",
       "</div>"
      ],
      "text/plain": [
       "                                                        description\n",
       "feature                                                            \n",
       "car_ID                      unique id of each observation (Integer)\n",
       "symboling                                risk rating (Categorical) \n",
       "carcompany                        name of car company (Categorical)\n",
       "doornumber                   number of doors in a car (Categorical)\n",
       "carbody                                   body of car (Categorical)\n",
       "enginelocation                 location of car engine (Categorical)\n",
       "wheelbase                                wheelbase of car (Numeric)\n",
       "carlength                                   length of car (Numeric)\n",
       "carwidth                                     width of car (Numeric)\n",
       "carheight                                   height of car (Numeric)\n",
       "curbweight        the weight of a car without occupants or bagga...\n",
       "cylindernumber             cylinder placed in the car (Categorical)\n",
       "enginesize                                    size of car (Numeric)\n",
       "fuelsystem                         fuel system of car (Categorical)\n",
       "boreratio                                boreratio of car (Numeric)\n",
       "stroke                 stroke or volume inside the engine (Numeric)\n",
       "compressionratio                 compression ratio of car (Numeric)\n",
       "horsepower                                     horsepower (Numeric)\n",
       "peakrpm                                      car peak rpm (Numeric)\n",
       "citympg                                   mileage in city (Numeric)\n",
       "highwaympg                             mileage on highway (Numeric)\n",
       "price                                        price of car (Numeric)"
      ]
     },
     "execution_count": 4,
     "metadata": {},
     "output_type": "execute_result"
    }
   ],
   "source": [
    "# Load the data description and take a look at it\n",
    "dd = pd.read_csv(r'carpricesdatadescription.csv', index_col = 'feature')\n",
    "dd"
   ]
  },
  {
   "cell_type": "code",
   "execution_count": 5,
   "metadata": {},
   "outputs": [
    {
     "name": "stdout",
     "output_type": "stream",
     "text": [
      "<class 'pandas.core.frame.DataFrame'>\n",
      "Int64Index: 205 entries, 1 to 205\n",
      "Data columns (total 20 columns):\n",
      " #   Column            Non-Null Count  Dtype  \n",
      "---  ------            --------------  -----  \n",
      " 0   symboling         205 non-null    int64  \n",
      " 1   carname           205 non-null    object \n",
      " 2   doornumber        205 non-null    object \n",
      " 3   carbody           205 non-null    object \n",
      " 4   enginelocation    205 non-null    object \n",
      " 5   wheelbase         205 non-null    float64\n",
      " 6   carlength         205 non-null    float64\n",
      " 7   carwidth          205 non-null    float64\n",
      " 8   carheight         205 non-null    float64\n",
      " 9   curbweight        205 non-null    int64  \n",
      " 10  cylindernumber    205 non-null    object \n",
      " 11  enginesize        205 non-null    int64  \n",
      " 12  boreratio         205 non-null    float64\n",
      " 13  stroke            205 non-null    float64\n",
      " 14  compressionratio  205 non-null    float64\n",
      " 15  horsepower        205 non-null    int64  \n",
      " 16  peakrpm           205 non-null    int64  \n",
      " 17  citympg           205 non-null    int64  \n",
      " 18  highwaympg        205 non-null    int64  \n",
      " 19  price             205 non-null    float64\n",
      "dtypes: float64(8), int64(7), object(5)\n",
      "memory usage: 33.6+ KB\n"
     ]
    }
   ],
   "source": [
    "# Look at the specifics of the data frame\n",
    "df.info()"
   ]
  },
  {
   "cell_type": "code",
   "execution_count": 6,
   "metadata": {},
   "outputs": [],
   "source": [
    "# Convert qualitative predictors to the 'category' data type\n",
    "categorical_columns = df.select_dtypes(include = 'object').columns\n",
    "df[categorical_columns] = df[categorical_columns].astype('category')"
   ]
  },
  {
   "cell_type": "code",
   "execution_count": 7,
   "metadata": {},
   "outputs": [
    {
     "name": "stdout",
     "output_type": "stream",
     "text": [
      "<class 'pandas.core.frame.DataFrame'>\n",
      "Int64Index: 205 entries, 1 to 205\n",
      "Data columns (total 20 columns):\n",
      " #   Column            Non-Null Count  Dtype   \n",
      "---  ------            --------------  -----   \n",
      " 0   symboling         205 non-null    int64   \n",
      " 1   carname           205 non-null    category\n",
      " 2   doornumber        205 non-null    category\n",
      " 3   carbody           205 non-null    category\n",
      " 4   enginelocation    205 non-null    category\n",
      " 5   wheelbase         205 non-null    float64 \n",
      " 6   carlength         205 non-null    float64 \n",
      " 7   carwidth          205 non-null    float64 \n",
      " 8   carheight         205 non-null    float64 \n",
      " 9   curbweight        205 non-null    int64   \n",
      " 10  cylindernumber    205 non-null    category\n",
      " 11  enginesize        205 non-null    int64   \n",
      " 12  boreratio         205 non-null    float64 \n",
      " 13  stroke            205 non-null    float64 \n",
      " 14  compressionratio  205 non-null    float64 \n",
      " 15  horsepower        205 non-null    int64   \n",
      " 16  peakrpm           205 non-null    int64   \n",
      " 17  citympg           205 non-null    int64   \n",
      " 18  highwaympg        205 non-null    int64   \n",
      " 19  price             205 non-null    float64 \n",
      "dtypes: category(5), float64(8), int64(7)\n",
      "memory usage: 32.8 KB\n"
     ]
    }
   ],
   "source": [
    "# Look at the specifics of the data frame\n",
    "df.info()"
   ]
  },
  {
   "cell_type": "code",
   "execution_count": 8,
   "metadata": {},
   "outputs": [],
   "source": [
    "# Convert the 'symboling' feature to the 'category' datatype\n",
    "df['symboling'] = df['symboling'].astype('category')"
   ]
  },
  {
   "cell_type": "code",
   "execution_count": 9,
   "metadata": {},
   "outputs": [],
   "source": [
    "# Drop the car name as it won't be useful in the overall analysis\n",
    "df.drop(labels = 'carname', axis = 1, inplace = True)"
   ]
  },
  {
   "cell_type": "code",
   "execution_count": 10,
   "metadata": {},
   "outputs": [
    {
     "data": {
      "text/html": [
       "<div>\n",
       "<style scoped>\n",
       "    .dataframe tbody tr th:only-of-type {\n",
       "        vertical-align: middle;\n",
       "    }\n",
       "\n",
       "    .dataframe tbody tr th {\n",
       "        vertical-align: top;\n",
       "    }\n",
       "\n",
       "    .dataframe thead th {\n",
       "        text-align: right;\n",
       "    }\n",
       "</style>\n",
       "<table border=\"1\" class=\"dataframe\">\n",
       "  <thead>\n",
       "    <tr style=\"text-align: right;\">\n",
       "      <th></th>\n",
       "      <th>symboling</th>\n",
       "      <th>doornumber</th>\n",
       "      <th>carbody</th>\n",
       "      <th>enginelocation</th>\n",
       "      <th>wheelbase</th>\n",
       "      <th>carlength</th>\n",
       "      <th>carwidth</th>\n",
       "      <th>carheight</th>\n",
       "      <th>curbweight</th>\n",
       "      <th>cylindernumber</th>\n",
       "      <th>enginesize</th>\n",
       "      <th>boreratio</th>\n",
       "      <th>stroke</th>\n",
       "      <th>compressionratio</th>\n",
       "      <th>horsepower</th>\n",
       "      <th>peakrpm</th>\n",
       "      <th>citympg</th>\n",
       "      <th>highwaympg</th>\n",
       "      <th>price</th>\n",
       "    </tr>\n",
       "    <tr>\n",
       "      <th>car_ID</th>\n",
       "      <th></th>\n",
       "      <th></th>\n",
       "      <th></th>\n",
       "      <th></th>\n",
       "      <th></th>\n",
       "      <th></th>\n",
       "      <th></th>\n",
       "      <th></th>\n",
       "      <th></th>\n",
       "      <th></th>\n",
       "      <th></th>\n",
       "      <th></th>\n",
       "      <th></th>\n",
       "      <th></th>\n",
       "      <th></th>\n",
       "      <th></th>\n",
       "      <th></th>\n",
       "      <th></th>\n",
       "      <th></th>\n",
       "    </tr>\n",
       "  </thead>\n",
       "  <tbody>\n",
       "    <tr>\n",
       "      <th>1</th>\n",
       "      <td>3</td>\n",
       "      <td>two</td>\n",
       "      <td>convertible</td>\n",
       "      <td>front</td>\n",
       "      <td>88.6</td>\n",
       "      <td>168.8</td>\n",
       "      <td>64.1</td>\n",
       "      <td>48.8</td>\n",
       "      <td>2548</td>\n",
       "      <td>four</td>\n",
       "      <td>130</td>\n",
       "      <td>3.47</td>\n",
       "      <td>2.68</td>\n",
       "      <td>9.0</td>\n",
       "      <td>111</td>\n",
       "      <td>5000</td>\n",
       "      <td>21</td>\n",
       "      <td>27</td>\n",
       "      <td>13495.0</td>\n",
       "    </tr>\n",
       "    <tr>\n",
       "      <th>2</th>\n",
       "      <td>3</td>\n",
       "      <td>two</td>\n",
       "      <td>convertible</td>\n",
       "      <td>front</td>\n",
       "      <td>88.6</td>\n",
       "      <td>168.8</td>\n",
       "      <td>64.1</td>\n",
       "      <td>48.8</td>\n",
       "      <td>2548</td>\n",
       "      <td>four</td>\n",
       "      <td>130</td>\n",
       "      <td>3.47</td>\n",
       "      <td>2.68</td>\n",
       "      <td>9.0</td>\n",
       "      <td>111</td>\n",
       "      <td>5000</td>\n",
       "      <td>21</td>\n",
       "      <td>27</td>\n",
       "      <td>16500.0</td>\n",
       "    </tr>\n",
       "    <tr>\n",
       "      <th>3</th>\n",
       "      <td>1</td>\n",
       "      <td>two</td>\n",
       "      <td>hatchback</td>\n",
       "      <td>front</td>\n",
       "      <td>94.5</td>\n",
       "      <td>171.2</td>\n",
       "      <td>65.5</td>\n",
       "      <td>52.4</td>\n",
       "      <td>2823</td>\n",
       "      <td>six</td>\n",
       "      <td>152</td>\n",
       "      <td>2.68</td>\n",
       "      <td>3.47</td>\n",
       "      <td>9.0</td>\n",
       "      <td>154</td>\n",
       "      <td>5000</td>\n",
       "      <td>19</td>\n",
       "      <td>26</td>\n",
       "      <td>16500.0</td>\n",
       "    </tr>\n",
       "    <tr>\n",
       "      <th>4</th>\n",
       "      <td>2</td>\n",
       "      <td>four</td>\n",
       "      <td>sedan</td>\n",
       "      <td>front</td>\n",
       "      <td>99.8</td>\n",
       "      <td>176.6</td>\n",
       "      <td>66.2</td>\n",
       "      <td>54.3</td>\n",
       "      <td>2337</td>\n",
       "      <td>four</td>\n",
       "      <td>109</td>\n",
       "      <td>3.19</td>\n",
       "      <td>3.40</td>\n",
       "      <td>10.0</td>\n",
       "      <td>102</td>\n",
       "      <td>5500</td>\n",
       "      <td>24</td>\n",
       "      <td>30</td>\n",
       "      <td>13950.0</td>\n",
       "    </tr>\n",
       "    <tr>\n",
       "      <th>5</th>\n",
       "      <td>2</td>\n",
       "      <td>four</td>\n",
       "      <td>sedan</td>\n",
       "      <td>front</td>\n",
       "      <td>99.4</td>\n",
       "      <td>176.6</td>\n",
       "      <td>66.4</td>\n",
       "      <td>54.3</td>\n",
       "      <td>2824</td>\n",
       "      <td>five</td>\n",
       "      <td>136</td>\n",
       "      <td>3.19</td>\n",
       "      <td>3.40</td>\n",
       "      <td>8.0</td>\n",
       "      <td>115</td>\n",
       "      <td>5500</td>\n",
       "      <td>18</td>\n",
       "      <td>22</td>\n",
       "      <td>17450.0</td>\n",
       "    </tr>\n",
       "  </tbody>\n",
       "</table>\n",
       "</div>"
      ],
      "text/plain": [
       "       symboling doornumber      carbody enginelocation  wheelbase  carlength  \\\n",
       "car_ID                                                                          \n",
       "1              3        two  convertible          front       88.6      168.8   \n",
       "2              3        two  convertible          front       88.6      168.8   \n",
       "3              1        two    hatchback          front       94.5      171.2   \n",
       "4              2       four        sedan          front       99.8      176.6   \n",
       "5              2       four        sedan          front       99.4      176.6   \n",
       "\n",
       "        carwidth  carheight  curbweight cylindernumber  enginesize  boreratio  \\\n",
       "car_ID                                                                          \n",
       "1           64.1       48.8        2548           four         130       3.47   \n",
       "2           64.1       48.8        2548           four         130       3.47   \n",
       "3           65.5       52.4        2823            six         152       2.68   \n",
       "4           66.2       54.3        2337           four         109       3.19   \n",
       "5           66.4       54.3        2824           five         136       3.19   \n",
       "\n",
       "        stroke  compressionratio  horsepower  peakrpm  citympg  highwaympg  \\\n",
       "car_ID                                                                       \n",
       "1         2.68               9.0         111     5000       21          27   \n",
       "2         2.68               9.0         111     5000       21          27   \n",
       "3         3.47               9.0         154     5000       19          26   \n",
       "4         3.40              10.0         102     5500       24          30   \n",
       "5         3.40               8.0         115     5500       18          22   \n",
       "\n",
       "          price  \n",
       "car_ID           \n",
       "1       13495.0  \n",
       "2       16500.0  \n",
       "3       16500.0  \n",
       "4       13950.0  \n",
       "5       17450.0  "
      ]
     },
     "execution_count": 10,
     "metadata": {},
     "output_type": "execute_result"
    }
   ],
   "source": [
    "# Take a look at the data\n",
    "df.head()"
   ]
  },
  {
   "cell_type": "code",
   "execution_count": 11,
   "metadata": {},
   "outputs": [
    {
     "data": {
      "text/plain": [
       "(205, 19)"
      ]
     },
     "execution_count": 11,
     "metadata": {},
     "output_type": "execute_result"
    }
   ],
   "source": [
    "# Check the shape and size of the data\n",
    "df.shape"
   ]
  },
  {
   "cell_type": "markdown",
   "metadata": {},
   "source": [
    "**Note:** This is, of course, a small dataset. For this demonstration, we will use a subset of the features. Learners may explore with the original dataset at a later time."
   ]
  },
  {
   "cell_type": "code",
   "execution_count": 12,
   "metadata": {},
   "outputs": [],
   "source": [
    "# Retain a select number of columns for the purposes of this demonstration\n",
    "df = df[['symboling',\n",
    "         'carbody',\n",
    "         'wheelbase',\n",
    "         'curbweight',\n",
    "         'enginesize',\n",
    "         'boreratio',\n",
    "         'stroke',\n",
    "         'horsepower',\n",
    "         'citympg',\n",
    "         'price']]"
   ]
  },
  {
   "cell_type": "code",
   "execution_count": 13,
   "metadata": {},
   "outputs": [
    {
     "data": {
      "text/html": [
       "<div>\n",
       "<style scoped>\n",
       "    .dataframe tbody tr th:only-of-type {\n",
       "        vertical-align: middle;\n",
       "    }\n",
       "\n",
       "    .dataframe tbody tr th {\n",
       "        vertical-align: top;\n",
       "    }\n",
       "\n",
       "    .dataframe thead th {\n",
       "        text-align: right;\n",
       "    }\n",
       "</style>\n",
       "<table border=\"1\" class=\"dataframe\">\n",
       "  <thead>\n",
       "    <tr style=\"text-align: right;\">\n",
       "      <th></th>\n",
       "      <th>symboling</th>\n",
       "      <th>carbody</th>\n",
       "      <th>wheelbase</th>\n",
       "      <th>curbweight</th>\n",
       "      <th>enginesize</th>\n",
       "      <th>boreratio</th>\n",
       "      <th>stroke</th>\n",
       "      <th>horsepower</th>\n",
       "      <th>citympg</th>\n",
       "      <th>price</th>\n",
       "    </tr>\n",
       "    <tr>\n",
       "      <th>car_ID</th>\n",
       "      <th></th>\n",
       "      <th></th>\n",
       "      <th></th>\n",
       "      <th></th>\n",
       "      <th></th>\n",
       "      <th></th>\n",
       "      <th></th>\n",
       "      <th></th>\n",
       "      <th></th>\n",
       "      <th></th>\n",
       "    </tr>\n",
       "  </thead>\n",
       "  <tbody>\n",
       "    <tr>\n",
       "      <th>1</th>\n",
       "      <td>3</td>\n",
       "      <td>convertible</td>\n",
       "      <td>88.6</td>\n",
       "      <td>2548</td>\n",
       "      <td>130</td>\n",
       "      <td>3.47</td>\n",
       "      <td>2.68</td>\n",
       "      <td>111</td>\n",
       "      <td>21</td>\n",
       "      <td>13495.0</td>\n",
       "    </tr>\n",
       "    <tr>\n",
       "      <th>2</th>\n",
       "      <td>3</td>\n",
       "      <td>convertible</td>\n",
       "      <td>88.6</td>\n",
       "      <td>2548</td>\n",
       "      <td>130</td>\n",
       "      <td>3.47</td>\n",
       "      <td>2.68</td>\n",
       "      <td>111</td>\n",
       "      <td>21</td>\n",
       "      <td>16500.0</td>\n",
       "    </tr>\n",
       "    <tr>\n",
       "      <th>3</th>\n",
       "      <td>1</td>\n",
       "      <td>hatchback</td>\n",
       "      <td>94.5</td>\n",
       "      <td>2823</td>\n",
       "      <td>152</td>\n",
       "      <td>2.68</td>\n",
       "      <td>3.47</td>\n",
       "      <td>154</td>\n",
       "      <td>19</td>\n",
       "      <td>16500.0</td>\n",
       "    </tr>\n",
       "    <tr>\n",
       "      <th>4</th>\n",
       "      <td>2</td>\n",
       "      <td>sedan</td>\n",
       "      <td>99.8</td>\n",
       "      <td>2337</td>\n",
       "      <td>109</td>\n",
       "      <td>3.19</td>\n",
       "      <td>3.40</td>\n",
       "      <td>102</td>\n",
       "      <td>24</td>\n",
       "      <td>13950.0</td>\n",
       "    </tr>\n",
       "    <tr>\n",
       "      <th>5</th>\n",
       "      <td>2</td>\n",
       "      <td>sedan</td>\n",
       "      <td>99.4</td>\n",
       "      <td>2824</td>\n",
       "      <td>136</td>\n",
       "      <td>3.19</td>\n",
       "      <td>3.40</td>\n",
       "      <td>115</td>\n",
       "      <td>18</td>\n",
       "      <td>17450.0</td>\n",
       "    </tr>\n",
       "  </tbody>\n",
       "</table>\n",
       "</div>"
      ],
      "text/plain": [
       "       symboling      carbody  wheelbase  curbweight  enginesize  boreratio  \\\n",
       "car_ID                                                                        \n",
       "1              3  convertible       88.6        2548         130       3.47   \n",
       "2              3  convertible       88.6        2548         130       3.47   \n",
       "3              1    hatchback       94.5        2823         152       2.68   \n",
       "4              2        sedan       99.8        2337         109       3.19   \n",
       "5              2        sedan       99.4        2824         136       3.19   \n",
       "\n",
       "        stroke  horsepower  citympg    price  \n",
       "car_ID                                        \n",
       "1         2.68         111       21  13495.0  \n",
       "2         2.68         111       21  16500.0  \n",
       "3         3.47         154       19  16500.0  \n",
       "4         3.40         102       24  13950.0  \n",
       "5         3.40         115       18  17450.0  "
      ]
     },
     "execution_count": 13,
     "metadata": {},
     "output_type": "execute_result"
    }
   ],
   "source": [
    "# Take a look at the data\n",
    "df.head()"
   ]
  },
  {
   "cell_type": "code",
   "execution_count": 14,
   "metadata": {},
   "outputs": [
    {
     "data": {
      "text/plain": [
       "(205, 10)"
      ]
     },
     "execution_count": 14,
     "metadata": {},
     "output_type": "execute_result"
    }
   ],
   "source": [
    "# Check the shape and size of the data\n",
    "df.shape"
   ]
  },
  {
   "cell_type": "code",
   "execution_count": 15,
   "metadata": {},
   "outputs": [
    {
     "name": "stdout",
     "output_type": "stream",
     "text": [
      "<class 'pandas.core.frame.DataFrame'>\n",
      "Int64Index: 205 entries, 1 to 205\n",
      "Data columns (total 10 columns):\n",
      " #   Column      Non-Null Count  Dtype   \n",
      "---  ------      --------------  -----   \n",
      " 0   symboling   205 non-null    category\n",
      " 1   carbody     205 non-null    category\n",
      " 2   wheelbase   205 non-null    float64 \n",
      " 3   curbweight  205 non-null    int64   \n",
      " 4   enginesize  205 non-null    int64   \n",
      " 5   boreratio   205 non-null    float64 \n",
      " 6   stroke      205 non-null    float64 \n",
      " 7   horsepower  205 non-null    int64   \n",
      " 8   citympg     205 non-null    int64   \n",
      " 9   price       205 non-null    float64 \n",
      "dtypes: category(2), float64(4), int64(4)\n",
      "memory usage: 15.2 KB\n"
     ]
    }
   ],
   "source": [
    "# Look at the specifics of the data frame\n",
    "df.info()"
   ]
  },
  {
   "cell_type": "code",
   "execution_count": 16,
   "metadata": {},
   "outputs": [],
   "source": [
    "# Store the categorical column names\n",
    "categorical_columns = df.select_dtypes(include = 'category').columns"
   ]
  },
  {
   "cell_type": "code",
   "execution_count": 17,
   "metadata": {},
   "outputs": [],
   "source": [
    "# Split the data into input and output\n",
    "X = df.drop(labels = 'price', axis = 1)\n",
    "y = df['price']"
   ]
  },
  {
   "cell_type": "markdown",
   "metadata": {},
   "source": [
    "**Note:** The target variable here is the price of the car."
   ]
  },
  {
   "cell_type": "code",
   "execution_count": 18,
   "metadata": {},
   "outputs": [],
   "source": [
    "# Split the data into training, validation and testing datasets\n",
    "# Note: The validation data can be used for tuning models\n",
    "# Note: The testing data will serve as the unseen data to check the final performance of the model\n",
    "X_train, X_temp, y_train, y_temp = train_test_split(X, y, test_size = 0.4, random_state = 0)\n",
    "X_val, X_test, y_val, y_test = train_test_split(X_temp, y_temp, test_size = 0.5, random_state = 0)"
   ]
  },
  {
   "cell_type": "markdown",
   "metadata": {},
   "source": [
    "**Note:** We have split our dataset into three parts here because we will be using the validation data to improve the model when being trained on the training data. The testing data will be used as the final indicator of the predictive performance of the model."
   ]
  },
  {
   "cell_type": "markdown",
   "metadata": {},
   "source": [
    "**Note:** Fixing a random state value ensures reproducibility of the analysis."
   ]
  },
  {
   "cell_type": "code",
   "execution_count": 19,
   "metadata": {},
   "outputs": [
    {
     "name": "stdout",
     "output_type": "stream",
     "text": [
      "Training dataset size:  123\n",
      "Validation dataset size:  41\n",
      "Testing dataset size:  41\n"
     ]
    }
   ],
   "source": [
    "# Check the number of observations in the training, validation and testing datasets\n",
    "print('Training dataset size: ', len(X_train))\n",
    "print('Validation dataset size: ', len(X_val))\n",
    "print('Testing dataset size: ', len(X_test))"
   ]
  },
  {
   "cell_type": "code",
   "execution_count": 20,
   "metadata": {},
   "outputs": [],
   "source": [
    "# Fit a scaler to the training data and transform all the datasets\n",
    "scaler = MinMaxScaler()\n",
    "numerical_columns = X_train.select_dtypes(include = ['int64', 'float64']).columns\n",
    "X_train[numerical_columns] = scaler.fit_transform(X_train[numerical_columns])\n",
    "X_val[numerical_columns] = scaler.transform(X_val[numerical_columns])\n",
    "X_test[numerical_columns] = scaler.transform(X_test[numerical_columns])"
   ]
  },
  {
   "cell_type": "markdown",
   "metadata": {},
   "source": [
    "**Note:** Rescaling input features leads to loss of interpretability of coefficients but also leads to ability to compare coefficients of different features. Moreover, it is a prerequisite for regularizing linear regression models."
   ]
  },
  {
   "cell_type": "code",
   "execution_count": 21,
   "metadata": {},
   "outputs": [],
   "source": [
    "# Obtain dummy variables for the categorical features in the training, validation and testing input data\n",
    "X_train_dummies = pd.get_dummies(data = X_train, columns = ['carbody', 'symboling'], drop_first = True)\n",
    "X_val_dummies = pd.get_dummies(data = X_val, columns = ['carbody', 'symboling'], drop_first = True)\n",
    "X_test_dummies = pd.get_dummies(data = X_test, columns = ['carbody', 'symboling'], drop_first = True)"
   ]
  },
  {
   "cell_type": "markdown",
   "metadata": {
    "id": "J4HjzhpBAexj"
   },
   "source": [
    "# Part 2 - Multiple Linear Regression Models\n",
    "In this section, we will train and evaluate unregularized linear regression models for the data and then regularize the models"
   ]
  },
  {
   "cell_type": "markdown",
   "metadata": {},
   "source": [
    "### Model 1"
   ]
  },
  {
   "cell_type": "code",
   "execution_count": 22,
   "metadata": {},
   "outputs": [
    {
     "name": "stdout",
     "output_type": "stream",
     "text": [
      "                            OLS Regression Results                            \n",
      "==============================================================================\n",
      "Dep. Variable:                  price   R-squared:                       0.852\n",
      "Model:                            OLS   Adj. R-squared:                  0.839\n",
      "Method:                 Least Squares   F-statistic:                     67.56\n",
      "Date:                Thu, 15 Feb 2024   Prob (F-statistic):           6.35e-69\n",
      "Time:                        13:25:07   Log-Likelihood:                -1936.8\n",
      "No. Observations:                 205   AIC:                             3908.\n",
      "Df Residuals:                     188   BIC:                             3964.\n",
      "Df Model:                          16                                         \n",
      "Covariance Type:            nonrobust                                         \n",
      "========================================================================================\n",
      "                           coef    std err          t      P>|t|      [0.025      0.975]\n",
      "----------------------------------------------------------------------------------------\n",
      "Intercept            -2.221e+04   9183.672     -2.418      0.017   -4.03e+04   -4093.787\n",
      "symboling[T.-1]       1833.2350   2036.466      0.900      0.369   -2184.025    5850.495\n",
      "symboling[T.0]        2062.7012   1958.504      1.053      0.294   -1800.767    5926.170\n",
      "symboling[T.1]        2692.6079   2039.804      1.320      0.188   -1331.237    6716.453\n",
      "symboling[T.2]        1822.8219   2037.220      0.895      0.372   -2195.926    5841.569\n",
      "symboling[T.3]        3611.6203   2142.745      1.686      0.094    -615.293    7838.534\n",
      "carbody[T.hardtop]   -1565.6417   1889.477     -0.829      0.408   -5292.942    2161.659\n",
      "carbody[T.hatchback] -5593.1834   1554.958     -3.597      0.000   -8660.592   -2525.775\n",
      "carbody[T.sedan]     -4235.0432   1650.409     -2.566      0.011   -7490.743    -979.344\n",
      "carbody[T.wagon]     -6276.0774   1760.523     -3.565      0.000   -9748.996   -2803.159\n",
      "wheelbase              263.4044     90.741      2.903      0.004      84.402     442.406\n",
      "curbweight               3.4815      1.530      2.276      0.024       0.464       6.499\n",
      "enginesize              68.0417     13.753      4.948      0.000      40.912      95.171\n",
      "boreratio            -2333.5210   1227.157     -1.902      0.059   -4754.287      87.245\n",
      "stroke               -2246.7714    781.601     -2.875      0.005   -3788.607    -704.936\n",
      "horsepower              69.3564     14.816      4.681      0.000      40.129      98.584\n",
      "citympg                 86.5956     69.187      1.252      0.212     -49.888     223.079\n",
      "==============================================================================\n",
      "Omnibus:                       23.293   Durbin-Watson:                   0.788\n",
      "Prob(Omnibus):                  0.000   Jarque-Bera (JB):               64.950\n",
      "Skew:                           0.425   Prob(JB):                     7.88e-15\n",
      "Kurtosis:                       5.623   Cond. No.                     1.10e+05\n",
      "==============================================================================\n",
      "\n",
      "Notes:\n",
      "[1] Standard Errors assume that the covariance matrix of the errors is correctly specified.\n",
      "[2] The condition number is large, 1.1e+05. This might indicate that there are\n",
      "strong multicollinearity or other numerical problems.\n"
     ]
    }
   ],
   "source": [
    "# Create and train a linear regression model for the data and view its summary\n",
    "# Note: The objective is to predict 'price' using all the predictors\n",
    "# Note: Using all the data for analytical purposes but when building models generally only training data is used\n",
    "lr_model_1 = smf.ols('price ~ symboling + carbody + wheelbase + curbweight + enginesize + boreratio + stroke + horsepower + citympg', data = df)\n",
    "lr_model_1 = lr_model_1.fit()\n",
    "print(lr_model_1.summary())"
   ]
  },
  {
   "cell_type": "code",
   "execution_count": 23,
   "metadata": {},
   "outputs": [],
   "source": [
    "# Store the list of features in a variable for easy reference\n",
    "features_considered = ['symboling_-1', 'symboling_0', 'symboling_1', 'symboling_2', 'symboling_3', 'carbody_hardtop', 'carbody_hatchback', 'carbody_sedan', 'carbody_wagon', 'wheelbase', 'curbweight', 'enginesize', 'boreratio', 'stroke', 'horsepower', 'citympg']"
   ]
  },
  {
   "cell_type": "code",
   "execution_count": 24,
   "metadata": {
    "colab": {
     "base_uri": "https://localhost:8080/"
    },
    "executionInfo": {
     "elapsed": 43,
     "status": "ok",
     "timestamp": 1666951733689,
     "user": {
      "displayName": "Akshar Gupta",
      "userId": "03393520324044557957"
     },
     "user_tz": -330
    },
    "id": "6mUdCzMwAexj",
    "outputId": "19648e61-3a1a-4dd1-f66c-1a1ecd156f89"
   },
   "outputs": [],
   "source": [
    "# Create and train a linear regression model for the data and view its summary\n",
    "# Note: The objective is to predict 'price' using all the predictors\n",
    "# Note: Using only the training data\n",
    "lr_model_1 = LinearRegression()\n",
    "lr_model_1 = lr_model_1.fit(X_train_dummies[features_considered], y_train)"
   ]
  },
  {
   "cell_type": "code",
   "execution_count": 25,
   "metadata": {},
   "outputs": [
    {
     "name": "stdout",
     "output_type": "stream",
     "text": [
      "Coefficients of the unregularized model: [ 2036.45664199  2416.81510542  2495.53534628  2039.31070779\n",
      "  5501.72045562 -1875.35789168 -6263.59324327 -5320.67230767\n",
      " -7573.75502119 15210.1175737   7617.15070486 13115.26881941\n",
      " -4684.20926977 -5841.0604766  18257.81701758  3465.62709909]\n"
     ]
    }
   ],
   "source": [
    "# Compare the coefficients of the unregularized model\n",
    "print('Coefficients of the unregularized model:', lr_model_1.coef_)"
   ]
  },
  {
   "cell_type": "code",
   "execution_count": 26,
   "metadata": {},
   "outputs": [
    {
     "name": "stdout",
     "output_type": "stream",
     "text": [
      "Training RMSE =  2897.95\n",
      "Training MAPE =  15.74\n",
      "Validation RMSE =  4225.35\n",
      "Vaidation MAPE =  21.73\n"
     ]
    }
   ],
   "source": [
    "# Look at the predictive performance of this model\n",
    "y_pred_lr_list = lr_model_1.predict(X_train_dummies[features_considered])\n",
    "rmse = np.sqrt(mean_squared_error(y_true = y_train, y_pred = y_pred_lr_list))\n",
    "mape = np.mean(np.abs(y_train - y_pred_lr_list) / y_train) * 100\n",
    "\n",
    "rmse = np.round(rmse, 2)\n",
    "mape = np.round(mape, 2)\n",
    "\n",
    "print('Training RMSE = ', rmse)\n",
    "print('Training MAPE = ', mape)\n",
    "\n",
    "y_pred_lr_list = lr_model_1.predict(X_val_dummies[features_considered])\n",
    "rmse = np.sqrt(mean_squared_error(y_true = y_val, y_pred = y_pred_lr_list))\n",
    "mape = np.mean(np.abs(y_val - y_pred_lr_list) / y_val) * 100\n",
    "\n",
    "rmse = np.round(rmse, 2)\n",
    "mape = np.round(mape, 2)\n",
    "\n",
    "print('Validation RMSE = ', rmse)\n",
    "print('Vaidation MAPE = ', mape)"
   ]
  },
  {
   "cell_type": "markdown",
   "metadata": {},
   "source": [
    "### Model 2"
   ]
  },
  {
   "cell_type": "markdown",
   "metadata": {},
   "source": [
    "### Ridge Regression"
   ]
  },
  {
   "cell_type": "code",
   "execution_count": 27,
   "metadata": {},
   "outputs": [],
   "source": [
    "# Create and train a linear regression model for the data and view its summary\n",
    "# Note: The objective is to predict 'price' using all the predictors\n",
    "# Note: Using only the training data\n",
    "lr_model_2 = Ridge(alpha = 1)\n",
    "lr_model_2 = lr_model_2.fit(X_train_dummies[features_considered], y_train)"
   ]
  },
  {
   "cell_type": "code",
   "execution_count": 28,
   "metadata": {},
   "outputs": [
    {
     "name": "stdout",
     "output_type": "stream",
     "text": [
      "Coefficients of the unregularized model: [ 2036.45664199  2416.81510542  2495.53534628  2039.31070779\n",
      "  5501.72045562 -1875.35789168 -6263.59324327 -5320.67230767\n",
      " -7573.75502119 15210.1175737   7617.15070486 13115.26881941\n",
      " -4684.20926977 -5841.0604766  18257.81701758  3465.62709909]\n",
      "Coefficients of the ridge model: [  799.51729692   656.42635177   515.28742927  -189.10522772\n",
      "  2597.61201283   801.33933473 -3653.33343347 -2154.97143878\n",
      " -4660.9032722   5821.30705581 10573.36546964 11213.31242339\n",
      " -1375.91786388 -3201.17045463  9721.52931018 -1823.54628476]\n"
     ]
    }
   ],
   "source": [
    "# Compare the coefficients of the unregularized model and the ridge model\n",
    "print('Coefficients of the unregularized model:', lr_model_1.coef_)\n",
    "print('Coefficients of the ridge model:', lr_model_2.coef_)"
   ]
  },
  {
   "cell_type": "code",
   "execution_count": 29,
   "metadata": {},
   "outputs": [
    {
     "name": "stdout",
     "output_type": "stream",
     "text": [
      "Training RMSE =  3126.23\n",
      "Training MAPE =  16.97\n",
      "Validation RMSE =  4026.5\n",
      "Vaidation MAPE =  20.35\n"
     ]
    }
   ],
   "source": [
    "# Look at the predictive performance of this model\n",
    "y_pred_lr_list = lr_model_2.predict(X_train_dummies[features_considered])\n",
    "rmse = np.sqrt(mean_squared_error(y_true = y_train, y_pred = y_pred_lr_list))\n",
    "mape = np.mean(np.abs(y_train - y_pred_lr_list) / y_train) * 100\n",
    "\n",
    "rmse = np.round(rmse, 2)\n",
    "mape = np.round(mape, 2)\n",
    "\n",
    "print('Training RMSE = ', rmse)\n",
    "print('Training MAPE = ', mape)\n",
    "\n",
    "y_pred_lr_list = lr_model_2.predict(X_val_dummies[features_considered])\n",
    "rmse = np.sqrt(mean_squared_error(y_true = y_val, y_pred = y_pred_lr_list))\n",
    "mape = np.mean(np.abs(y_val - y_pred_lr_list) / y_val) * 100\n",
    "\n",
    "rmse = np.round(rmse, 2)\n",
    "mape = np.round(mape, 2)\n",
    "\n",
    "print('Validation RMSE = ', rmse)\n",
    "print('Vaidation MAPE = ', mape)"
   ]
  },
  {
   "cell_type": "markdown",
   "metadata": {},
   "source": [
    "### Model 3"
   ]
  },
  {
   "cell_type": "markdown",
   "metadata": {},
   "source": [
    "### LASSO Regression"
   ]
  },
  {
   "cell_type": "code",
   "execution_count": 30,
   "metadata": {},
   "outputs": [],
   "source": [
    "# Create and train a linear regression model for the data and view its summary\n",
    "# Note: The objective is to predict 'price' using all the predictors\n",
    "# Note: Using only the training data\n",
    "lr_model_3 = Lasso(alpha = 1)\n",
    "lr_model_3 = lr_model_3.fit(X_train_dummies[features_considered], y_train)"
   ]
  },
  {
   "cell_type": "code",
   "execution_count": 31,
   "metadata": {},
   "outputs": [
    {
     "name": "stdout",
     "output_type": "stream",
     "text": [
      "Coefficients of the unregularized model: [ 2036.45664199  2416.81510542  2495.53534628  2039.31070779\n",
      "  5501.72045562 -1875.35789168 -6263.59324327 -5320.67230767\n",
      " -7573.75502119 15210.1175737   7617.15070486 13115.26881941\n",
      " -4684.20926977 -5841.0604766  18257.81701758  3465.62709909]\n",
      "Coefficients of the ridge model: [  799.51729692   656.42635177   515.28742927  -189.10522772\n",
      "  2597.61201283   801.33933473 -3653.33343347 -2154.97143878\n",
      " -4660.9032722   5821.30705581 10573.36546964 11213.31242339\n",
      " -1375.91786388 -3201.17045463  9721.52931018 -1823.54628476]\n",
      "Coefficients of the LASSO model: [ 1730.74269139  2079.66306019  2147.02062527  1687.87498573\n",
      "  5128.73527925 -1692.52079667 -6105.64945215 -5151.60982762\n",
      " -7402.3916433  14811.28009863  7745.74110389 13266.52203486\n",
      " -4661.05711587 -5788.16277591 17852.98392499  3228.5927157 ]\n"
     ]
    }
   ],
   "source": [
    "# Compare the coefficients of the unregularized model, the ridge model and the LASSO model\n",
    "print('Coefficients of the unregularized model:', lr_model_1.coef_)\n",
    "print('Coefficients of the ridge model:', lr_model_2.coef_)\n",
    "print('Coefficients of the LASSO model:', lr_model_3.coef_)"
   ]
  },
  {
   "cell_type": "code",
   "execution_count": 32,
   "metadata": {},
   "outputs": [
    {
     "name": "stdout",
     "output_type": "stream",
     "text": [
      "Training RMSE =  2898.51\n",
      "Training MAPE =  15.68\n",
      "Validation RMSE =  4208.09\n",
      "Vaidation MAPE =  21.51\n"
     ]
    }
   ],
   "source": [
    "# Look at the predictive performance of this model\n",
    "y_pred_lr_list = lr_model_3.predict(X_train_dummies[features_considered])\n",
    "rmse = np.sqrt(mean_squared_error(y_true = y_train, y_pred = y_pred_lr_list))\n",
    "mape = np.mean(np.abs(y_train - y_pred_lr_list) / y_train) * 100\n",
    "\n",
    "rmse = np.round(rmse, 2)\n",
    "mape = np.round(mape, 2)\n",
    "\n",
    "print('Training RMSE = ', rmse)\n",
    "print('Training MAPE = ', mape)\n",
    "\n",
    "y_pred_lr_list = lr_model_3.predict(X_val_dummies[features_considered])\n",
    "rmse = np.sqrt(mean_squared_error(y_true = y_val, y_pred = y_pred_lr_list))\n",
    "mape = np.mean(np.abs(y_val - y_pred_lr_list) / y_val) * 100\n",
    "\n",
    "rmse = np.round(rmse, 2)\n",
    "mape = np.round(mape, 2)\n",
    "\n",
    "print('Validation RMSE = ', rmse)\n",
    "print('Vaidation MAPE = ', mape)"
   ]
  },
  {
   "cell_type": "markdown",
   "metadata": {},
   "source": [
    "## Hyperparameter Tuning: Ridge Model"
   ]
  },
  {
   "cell_type": "code",
   "execution_count": 33,
   "metadata": {},
   "outputs": [
    {
     "data": {
      "image/png": "[encoded data removed]",
      "text/plain": [
       "<Figure size 1400x600 with 2 Axes>"
      ]
     },
     "metadata": {},
     "output_type": "display_data"
    }
   ],
   "source": [
    "# Create a range of alpha values for tuning\n",
    "alpha_vals = np.arange(0, 50, 1)\n",
    "\n",
    "# Intialize lists to store training and validation performance metrics\n",
    "train_rmse_list = []\n",
    "train_mape_list = []\n",
    "val_rmse_list = []\n",
    "val_mape_list = []\n",
    "\n",
    "for alpha_val in alpha_vals:\n",
    "    temp_model = Ridge(alpha = alpha_val)\n",
    "    temp_model = temp_model.fit(X_train_dummies[features_considered], y_train)\n",
    "    \n",
    "    train_preds = temp_model.predict(X_train_dummies[features_considered])\n",
    "    \n",
    "    train_rmse = np.sqrt(mean_squared_error(y_true = y_train, y_pred = train_preds))\n",
    "    train_mape = np.mean(np.abs(y_train - train_preds) / y_train) * 100\n",
    "    \n",
    "    val_preds = temp_model.predict(X_val_dummies[features_considered])\n",
    "    \n",
    "    val_rmse = np.sqrt(mean_squared_error(y_true = y_val, y_pred = val_preds))\n",
    "    val_mape = np.mean(np.abs(y_val - val_preds) / y_val) * 100\n",
    "    \n",
    "    train_rmse = np.round(train_rmse, 2)\n",
    "    train_mape = np.round(train_mape, 2)\n",
    "    \n",
    "    val_rmse = np.round(val_rmse, 2)\n",
    "    val_mape = np.round(val_mape, 2)\n",
    "    \n",
    "    train_rmse_list.append(train_rmse)\n",
    "    val_rmse_list.append(val_rmse)\n",
    "    \n",
    "    train_mape_list.append(train_mape)\n",
    "    val_mape_list.append(val_mape)\n",
    "\n",
    "plt.figure(figsize = (14, 6))\n",
    "\n",
    "plt.subplot(1, 2, 1)\n",
    "sns.lineplot(x = alpha_vals, y = train_rmse_list, label = 'Training RMSE', color = 'blue')\n",
    "sns.lineplot(x = alpha_vals, y = val_rmse_list, label = 'Validation RMSE', color = 'red')\n",
    "plt.xlabel('Alpha')\n",
    "plt.ylabel('RMSE')\n",
    "plt.title('RMSE of Ridge Model as a Function of Alpha')\n",
    "plt.legend(bbox_to_anchor = (1, 1))\n",
    "\n",
    "plt.subplot(1, 2, 2)\n",
    "sns.lineplot(x = alpha_vals, y = train_mape_list, label = 'Training MAPE', color = 'blue')\n",
    "sns.lineplot(x = alpha_vals, y = val_mape_list, label = 'Validation MAPE', color = 'red')\n",
    "plt.xlabel('Alpha')\n",
    "plt.ylabel('MAPE')\n",
    "plt.title('MAPE of Ridge Model as a Function of Alpha')\n",
    "plt.legend(bbox_to_anchor = (1, 1))\n",
    "\n",
    "plt.tight_layout();"
   ]
  },
  {
   "cell_type": "code",
   "execution_count": 34,
   "metadata": {},
   "outputs": [
    {
     "data": {
      "text/plain": [
       "1"
      ]
     },
     "execution_count": 34,
     "metadata": {},
     "output_type": "execute_result"
    }
   ],
   "source": [
    "# Obtain the value of ridge alpha for minimum validation MAPE\n",
    "best_ridge_alpha = alpha_vals[val_mape_list.index(min(val_mape_list))]\n",
    "best_ridge_alpha"
   ]
  },
  {
   "cell_type": "markdown",
   "metadata": {},
   "source": [
    "## Hyperparameter Tuning: LASSO Model"
   ]
  },
  {
   "cell_type": "code",
   "execution_count": 35,
   "metadata": {},
   "outputs": [
    {
     "data": {
      "image/png": "[encoded data removed]",
      "text/plain": [
       "<Figure size 1400x600 with 2 Axes>"
      ]
     },
     "metadata": {},
     "output_type": "display_data"
    }
   ],
   "source": [
    "# Create a range of alpha values for tuning\n",
    "alpha_vals = np.arange(0, 500, 1)\n",
    "\n",
    "# Intialize lists to store training and validation performance metrics\n",
    "train_rmse_list = []\n",
    "train_mape_list = []\n",
    "val_rmse_list = []\n",
    "val_mape_list = []\n",
    "\n",
    "for alpha_val in alpha_vals:\n",
    "    temp_model = Lasso(alpha = alpha_val)\n",
    "    temp_model = temp_model.fit(X_train_dummies[features_considered], y_train)\n",
    "    \n",
    "    train_preds = temp_model.predict(X_train_dummies[features_considered])\n",
    "    \n",
    "    train_rmse = np.sqrt(mean_squared_error(y_true = y_train, y_pred = train_preds))\n",
    "    train_mape = np.mean(np.abs(y_train - train_preds) / y_train) * 100\n",
    "    \n",
    "    val_preds = temp_model.predict(X_val_dummies[features_considered])\n",
    "    \n",
    "    val_rmse = np.sqrt(mean_squared_error(y_true = y_val, y_pred = val_preds))\n",
    "    val_mape = np.mean(np.abs(y_val - val_preds) / y_val) * 100\n",
    "    \n",
    "    train_rmse = np.round(train_rmse, 2)\n",
    "    train_mape = np.round(train_mape, 2)\n",
    "    \n",
    "    val_rmse = np.round(val_rmse, 2)\n",
    "    val_mape = np.round(val_mape, 2)\n",
    "    \n",
    "    train_rmse_list.append(train_rmse)\n",
    "    val_rmse_list.append(val_rmse)\n",
    "    \n",
    "    train_mape_list.append(train_mape)\n",
    "    val_mape_list.append(val_mape)\n",
    "\n",
    "plt.figure(figsize = (14, 6))\n",
    "\n",
    "plt.subplot(1, 2, 1)\n",
    "sns.lineplot(x = alpha_vals, y = train_rmse_list, label = 'Training RMSE', color = 'blue')\n",
    "sns.lineplot(x = alpha_vals, y = val_rmse_list, label = 'Validation RMSE', color = 'red')\n",
    "plt.xlabel('Alpha')\n",
    "plt.ylabel('RMSE')\n",
    "plt.title('RMSE of LASSO Model as a Function of Alpha')\n",
    "plt.legend(bbox_to_anchor = (1, 1))\n",
    "\n",
    "plt.subplot(1, 2, 2)\n",
    "sns.lineplot(x = alpha_vals, y = train_mape_list, label = 'Training MAPE', color = 'blue')\n",
    "sns.lineplot(x = alpha_vals, y = val_mape_list, label = 'Validation MAPE', color = 'red')\n",
    "plt.xlabel('Alpha')\n",
    "plt.ylabel('MAPE')\n",
    "plt.title('MAPE of LASSO Model as a Function of Alpha')\n",
    "plt.legend(bbox_to_anchor = (1, 1))\n",
    "\n",
    "plt.tight_layout();"
   ]
  },
  {
   "cell_type": "code",
   "execution_count": 36,
   "metadata": {},
   "outputs": [
    {
     "data": {
      "text/plain": [
       "247"
      ]
     },
     "execution_count": 36,
     "metadata": {},
     "output_type": "execute_result"
    }
   ],
   "source": [
    "# Obtain the value of LASSO alpha for minimum validation MAPE\n",
    "best_lasso_alpha = alpha_vals[val_mape_list.index(min(val_mape_list))]\n",
    "best_lasso_alpha"
   ]
  },
  {
   "cell_type": "markdown",
   "metadata": {},
   "source": [
    "## Optimal Models"
   ]
  },
  {
   "cell_type": "markdown",
   "metadata": {},
   "source": [
    "### Unregularized Model"
   ]
  },
  {
   "cell_type": "code",
   "execution_count": 37,
   "metadata": {},
   "outputs": [
    {
     "data": {
      "text/plain": [
       "array([ 2036.45664199,  2416.81510542,  2495.53534628,  2039.31070779,\n",
       "        5501.72045562, -1875.35789168, -6263.59324327, -5320.67230767,\n",
       "       -7573.75502119, 15210.1175737 ,  7617.15070486, 13115.26881941,\n",
       "       -4684.20926977, -5841.0604766 , 18257.81701758,  3465.62709909])"
      ]
     },
     "execution_count": 37,
     "metadata": {},
     "output_type": "execute_result"
    }
   ],
   "source": [
    "# Look at the optimal unregularized model coefficients\n",
    "lr_model_1.coef_"
   ]
  },
  {
   "cell_type": "code",
   "execution_count": 38,
   "metadata": {},
   "outputs": [
    {
     "name": "stdout",
     "output_type": "stream",
     "text": [
      "Training RMSE =  2897.95\n",
      "Training MAPE =  15.74\n",
      "Validation RMSE =  4225.35\n",
      "Vaidation MAPE =  21.73\n",
      "Testing RMSE =  2851.99\n",
      "Testing MAPE =  19.31\n"
     ]
    }
   ],
   "source": [
    "# Look at the predictive performance of this model\n",
    "y_pred_lr_list = lr_model_1.predict(X_train_dummies[features_considered])\n",
    "rmse = np.sqrt(mean_squared_error(y_true = y_train, y_pred = y_pred_lr_list))\n",
    "mape = np.mean(np.abs(y_train - y_pred_lr_list) / y_train) * 100\n",
    "\n",
    "rmse = np.round(rmse, 2)\n",
    "mape = np.round(mape, 2)\n",
    "\n",
    "print('Training RMSE = ', rmse)\n",
    "print('Training MAPE = ', mape)\n",
    "\n",
    "y_pred_lr_list = lr_model_1.predict(X_val_dummies[features_considered])\n",
    "rmse = np.sqrt(mean_squared_error(y_true = y_val, y_pred = y_pred_lr_list))\n",
    "mape = np.mean(np.abs(y_val - y_pred_lr_list) / y_val) * 100\n",
    "\n",
    "rmse = np.round(rmse, 2)\n",
    "mape = np.round(mape, 2)\n",
    "\n",
    "print('Validation RMSE = ', rmse)\n",
    "print('Vaidation MAPE = ', mape)\n",
    "\n",
    "y_pred_lr_list = lr_model_1.predict(X_test_dummies[features_considered])\n",
    "rmse = np.sqrt(mean_squared_error(y_true = y_test, y_pred = y_pred_lr_list))\n",
    "mape = np.mean(np.abs(y_test - y_pred_lr_list) / y_test) * 100\n",
    "\n",
    "rmse = np.round(rmse, 2)\n",
    "mape = np.round(mape, 2)\n",
    "\n",
    "print('Testing RMSE = ', rmse)\n",
    "print('Testing MAPE = ', mape)"
   ]
  },
  {
   "cell_type": "markdown",
   "metadata": {},
   "source": [
    "### Ridge Model"
   ]
  },
  {
   "cell_type": "code",
   "execution_count": 39,
   "metadata": {},
   "outputs": [],
   "source": [
    "# Create and train a linear regression model for the data and view its summary\n",
    "# Note: The objective is to predict 'price' using all the predictors\n",
    "# Note: Using only the training data\n",
    "lr_model_2 = Ridge(alpha = best_ridge_alpha)\n",
    "lr_model_2 = lr_model_2.fit(X_train_dummies[features_considered], y_train)"
   ]
  },
  {
   "cell_type": "code",
   "execution_count": 40,
   "metadata": {},
   "outputs": [
    {
     "data": {
      "text/plain": [
       "array([  799.51729692,   656.42635177,   515.28742927,  -189.10522772,\n",
       "        2597.61201283,   801.33933473, -3653.33343347, -2154.97143878,\n",
       "       -4660.9032722 ,  5821.30705581, 10573.36546964, 11213.31242339,\n",
       "       -1375.91786388, -3201.17045463,  9721.52931018, -1823.54628476])"
      ]
     },
     "execution_count": 40,
     "metadata": {},
     "output_type": "execute_result"
    }
   ],
   "source": [
    "# Look at the optimal ridge model coefficients\n",
    "lr_model_2.coef_"
   ]
  },
  {
   "cell_type": "code",
   "execution_count": 41,
   "metadata": {},
   "outputs": [
    {
     "name": "stdout",
     "output_type": "stream",
     "text": [
      "Training RMSE =  3126.23\n",
      "Training MAPE =  16.97\n",
      "Validation RMSE =  4026.5\n",
      "Vaidation MAPE =  20.35\n",
      "Testing RMSE =  2792.62\n",
      "Testing MAPE =  21.06\n"
     ]
    }
   ],
   "source": [
    "# Look at the predictive performance of this model\n",
    "y_pred_lr_list = lr_model_2.predict(X_train_dummies[features_considered])\n",
    "rmse = np.sqrt(mean_squared_error(y_true = y_train, y_pred = y_pred_lr_list))\n",
    "mape = np.mean(np.abs(y_train - y_pred_lr_list) / y_train) * 100\n",
    "\n",
    "rmse = np.round(rmse, 2)\n",
    "mape = np.round(mape, 2)\n",
    "\n",
    "print('Training RMSE = ', rmse)\n",
    "print('Training MAPE = ', mape)\n",
    "\n",
    "y_pred_lr_list = lr_model_2.predict(X_val_dummies[features_considered])\n",
    "rmse = np.sqrt(mean_squared_error(y_true = y_val, y_pred = y_pred_lr_list))\n",
    "mape = np.mean(np.abs(y_val - y_pred_lr_list) / y_val) * 100\n",
    "\n",
    "rmse = np.round(rmse, 2)\n",
    "mape = np.round(mape, 2)\n",
    "\n",
    "print('Validation RMSE = ', rmse)\n",
    "print('Vaidation MAPE = ', mape)\n",
    "\n",
    "y_pred_lr_list = lr_model_2.predict(X_test_dummies[features_considered])\n",
    "rmse = np.sqrt(mean_squared_error(y_true = y_test, y_pred = y_pred_lr_list))\n",
    "mape = np.mean(np.abs(y_test - y_pred_lr_list) / y_test) * 100\n",
    "\n",
    "rmse = np.round(rmse, 2)\n",
    "mape = np.round(mape, 2)\n",
    "\n",
    "print('Testing RMSE = ', rmse)\n",
    "print('Testing MAPE = ', mape)"
   ]
  },
  {
   "cell_type": "markdown",
   "metadata": {},
   "source": [
    "### LASSO Model"
   ]
  },
  {
   "cell_type": "code",
   "execution_count": 42,
   "metadata": {},
   "outputs": [],
   "source": [
    "# Create and train a linear regression model for the data and view its summary\n",
    "# Note: The objective is to predict 'price' using all the predictors\n",
    "# Note: Using only the training data\n",
    "lr_model_3 = Lasso(alpha = best_lasso_alpha)\n",
    "lr_model_3 = lr_model_3.fit(X_train_dummies[features_considered], y_train)"
   ]
  },
  {
   "cell_type": "code",
   "execution_count": 43,
   "metadata": {},
   "outputs": [
    {
     "data": {
      "text/plain": [
       "array([    0.        ,     0.        ,    -0.        ,    -0.        ,\n",
       "         235.69613768,     0.        ,  -975.31924403,     0.        ,\n",
       "        -165.17581952,     0.        , 14151.30031442,  6819.6910463 ,\n",
       "           0.        ,    -0.        , 10188.87480414,    -0.        ])"
      ]
     },
     "execution_count": 43,
     "metadata": {},
     "output_type": "execute_result"
    }
   ],
   "source": [
    "# Look at the optimal LASSO model coefficients\n",
    "lr_model_3.coef_"
   ]
  },
  {
   "cell_type": "code",
   "execution_count": 44,
   "metadata": {},
   "outputs": [
    {
     "name": "stdout",
     "output_type": "stream",
     "text": [
      "Training RMSE =  3723.01\n",
      "Training MAPE =  17.47\n",
      "Validation RMSE =  4502.56\n",
      "Vaidation MAPE =  19.71\n",
      "Testing RMSE =  2652.97\n",
      "Testing MAPE =  17.3\n"
     ]
    }
   ],
   "source": [
    "# Look at the predictive performance of this model\n",
    "y_pred_lr_list = lr_model_3.predict(X_train_dummies[features_considered])\n",
    "rmse = np.sqrt(mean_squared_error(y_true = y_train, y_pred = y_pred_lr_list))\n",
    "mape = np.mean(np.abs(y_train - y_pred_lr_list) / y_train) * 100\n",
    "\n",
    "rmse = np.round(rmse, 2)\n",
    "mape = np.round(mape, 2)\n",
    "\n",
    "print('Training RMSE = ', rmse)\n",
    "print('Training MAPE = ', mape)\n",
    "\n",
    "y_pred_lr_list = lr_model_3.predict(X_val_dummies[features_considered])\n",
    "rmse = np.sqrt(mean_squared_error(y_true = y_val, y_pred = y_pred_lr_list))\n",
    "mape = np.mean(np.abs(y_val - y_pred_lr_list) / y_val) * 100\n",
    "\n",
    "rmse = np.round(rmse, 2)\n",
    "mape = np.round(mape, 2)\n",
    "\n",
    "print('Validation RMSE = ', rmse)\n",
    "print('Vaidation MAPE = ', mape)\n",
    "\n",
    "y_pred_lr_list = lr_model_3.predict(X_test_dummies[features_considered])\n",
    "rmse = np.sqrt(mean_squared_error(y_true = y_test, y_pred = y_pred_lr_list))\n",
    "mape = np.mean(np.abs(y_test - y_pred_lr_list) / y_test) * 100\n",
    "\n",
    "rmse = np.round(rmse, 2)\n",
    "mape = np.round(mape, 2)\n",
    "\n",
    "print('Testing RMSE = ', rmse)\n",
    "print('Testing MAPE = ', mape)"
   ]
  }
 ],
 "metadata": {
  "colab": {
   "provenance": []
  },
  "kernelspec": {
   "display_name": "Python 3 (ipykernel)",
   "language": "python",
   "name": "python3"
  },
  "language_info": {
   "codemirror_mode": {
    "name": "ipython",
    "version": 3
   },
   "file_extension": ".py",
   "mimetype": "text/x-python",
   "name": "python",
   "nbconvert_exporter": "python",
   "pygments_lexer": "ipython3",
   "version": "3.11.7"
  }
 },
 "nbformat": 4,
 "nbformat_minor": 4
}
