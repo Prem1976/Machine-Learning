{
 "cells": [
  {
   "cell_type": "code",
   "execution_count": 1,
   "id": "8eff2668",
   "metadata": {},
   "outputs": [],
   "source": [
    "import numpy as np\n",
    "import pandas as pd\n",
    "import matplotlib.pyplot as plt\n",
    "import seaborn as sns"
   ]
  },
  {
   "cell_type": "code",
   "execution_count": 2,
   "id": "2d9d5da7",
   "metadata": {},
   "outputs": [
    {
     "data": {
      "text/html": [
       "<div>\n",
       "<style scoped>\n",
       "    .dataframe tbody tr th:only-of-type {\n",
       "        vertical-align: middle;\n",
       "    }\n",
       "\n",
       "    .dataframe tbody tr th {\n",
       "        vertical-align: top;\n",
       "    }\n",
       "\n",
       "    .dataframe thead th {\n",
       "        text-align: right;\n",
       "    }\n",
       "</style>\n",
       "<table border=\"1\" class=\"dataframe\">\n",
       "  <thead>\n",
       "    <tr style=\"text-align: right;\">\n",
       "      <th></th>\n",
       "      <th>Player</th>\n",
       "      <th>Span</th>\n",
       "      <th>Mat</th>\n",
       "      <th>Inns</th>\n",
       "      <th>NO</th>\n",
       "      <th>Runs</th>\n",
       "      <th>HS</th>\n",
       "      <th>Ave</th>\n",
       "      <th>BF</th>\n",
       "      <th>SR</th>\n",
       "      <th>100</th>\n",
       "      <th>50</th>\n",
       "      <th>0</th>\n",
       "    </tr>\n",
       "  </thead>\n",
       "  <tbody>\n",
       "    <tr>\n",
       "      <th>0</th>\n",
       "      <td>SR Tendulkar (INDIA)</td>\n",
       "      <td>1989-2012</td>\n",
       "      <td>463</td>\n",
       "      <td>452</td>\n",
       "      <td>41</td>\n",
       "      <td>18426</td>\n",
       "      <td>200*</td>\n",
       "      <td>44.83</td>\n",
       "      <td>21367</td>\n",
       "      <td>86.23</td>\n",
       "      <td>49</td>\n",
       "      <td>96</td>\n",
       "      <td>20</td>\n",
       "    </tr>\n",
       "    <tr>\n",
       "      <th>1</th>\n",
       "      <td>KC Sangakkara (Asia/ICC/SL)</td>\n",
       "      <td>2000-2015</td>\n",
       "      <td>404</td>\n",
       "      <td>380</td>\n",
       "      <td>41</td>\n",
       "      <td>14234</td>\n",
       "      <td>169</td>\n",
       "      <td>41.98</td>\n",
       "      <td>18048</td>\n",
       "      <td>78.86</td>\n",
       "      <td>25</td>\n",
       "      <td>93</td>\n",
       "      <td>15</td>\n",
       "    </tr>\n",
       "    <tr>\n",
       "      <th>2</th>\n",
       "      <td>RT Ponting (AUS/ICC)</td>\n",
       "      <td>1995-2012</td>\n",
       "      <td>375</td>\n",
       "      <td>365</td>\n",
       "      <td>39</td>\n",
       "      <td>13704</td>\n",
       "      <td>164</td>\n",
       "      <td>42.03</td>\n",
       "      <td>17046</td>\n",
       "      <td>80.39</td>\n",
       "      <td>30</td>\n",
       "      <td>82</td>\n",
       "      <td>20</td>\n",
       "    </tr>\n",
       "    <tr>\n",
       "      <th>3</th>\n",
       "      <td>ST Jayasuriya (Asia/SL)</td>\n",
       "      <td>1989-2011</td>\n",
       "      <td>445</td>\n",
       "      <td>433</td>\n",
       "      <td>18</td>\n",
       "      <td>13430</td>\n",
       "      <td>189</td>\n",
       "      <td>32.36</td>\n",
       "      <td>14725</td>\n",
       "      <td>91.20</td>\n",
       "      <td>28</td>\n",
       "      <td>68</td>\n",
       "      <td>34</td>\n",
       "    </tr>\n",
       "    <tr>\n",
       "      <th>4</th>\n",
       "      <td>DPMD Jayawardene (Asia/SL)</td>\n",
       "      <td>1998-2015</td>\n",
       "      <td>448</td>\n",
       "      <td>418</td>\n",
       "      <td>39</td>\n",
       "      <td>12650</td>\n",
       "      <td>144</td>\n",
       "      <td>33.37</td>\n",
       "      <td>16020</td>\n",
       "      <td>78.96</td>\n",
       "      <td>19</td>\n",
       "      <td>77</td>\n",
       "      <td>28</td>\n",
       "    </tr>\n",
       "  </tbody>\n",
       "</table>\n",
       "</div>"
      ],
      "text/plain": [
       "                        Player       Span  Mat  Inns  NO   Runs    HS    Ave  \\\n",
       "0         SR Tendulkar (INDIA)  1989-2012  463   452  41  18426  200*  44.83   \n",
       "1  KC Sangakkara (Asia/ICC/SL)  2000-2015  404   380  41  14234   169  41.98   \n",
       "2         RT Ponting (AUS/ICC)  1995-2012  375   365  39  13704   164  42.03   \n",
       "3      ST Jayasuriya (Asia/SL)  1989-2011  445   433  18  13430   189  32.36   \n",
       "4   DPMD Jayawardene (Asia/SL)  1998-2015  448   418  39  12650   144  33.37   \n",
       "\n",
       "      BF     SR  100  50   0  \n",
       "0  21367  86.23   49  96  20  \n",
       "1  18048  78.86   25  93  15  \n",
       "2  17046  80.39   30  82  20  \n",
       "3  14725  91.20   28  68  34  \n",
       "4  16020  78.96   19  77  28  "
      ]
     },
     "execution_count": 2,
     "metadata": {},
     "output_type": "execute_result"
    }
   ],
   "source": [
    "cricket=pd.read_csv(r'Cricket.csv', sep=\",\", encoding=\"ISO-8859-1\", header=0)\n",
    "cricket.head()"
   ]
  },
  {
   "cell_type": "code",
   "execution_count": 3,
   "id": "772c79bd",
   "metadata": {},
   "outputs": [
    {
     "data": {
      "text/html": [
       "<div>\n",
       "<style scoped>\n",
       "    .dataframe tbody tr th:only-of-type {\n",
       "        vertical-align: middle;\n",
       "    }\n",
       "\n",
       "    .dataframe tbody tr th {\n",
       "        vertical-align: top;\n",
       "    }\n",
       "\n",
       "    .dataframe thead th {\n",
       "        text-align: right;\n",
       "    }\n",
       "</style>\n",
       "<table border=\"1\" class=\"dataframe\">\n",
       "  <thead>\n",
       "    <tr style=\"text-align: right;\">\n",
       "      <th></th>\n",
       "      <th>Player</th>\n",
       "      <th>Ave</th>\n",
       "      <th>SR</th>\n",
       "    </tr>\n",
       "  </thead>\n",
       "  <tbody>\n",
       "    <tr>\n",
       "      <th>0</th>\n",
       "      <td>SR Tendulkar (INDIA)</td>\n",
       "      <td>44.83</td>\n",
       "      <td>86.23</td>\n",
       "    </tr>\n",
       "    <tr>\n",
       "      <th>1</th>\n",
       "      <td>KC Sangakkara (Asia/ICC/SL)</td>\n",
       "      <td>41.98</td>\n",
       "      <td>78.86</td>\n",
       "    </tr>\n",
       "    <tr>\n",
       "      <th>2</th>\n",
       "      <td>RT Ponting (AUS/ICC)</td>\n",
       "      <td>42.03</td>\n",
       "      <td>80.39</td>\n",
       "    </tr>\n",
       "    <tr>\n",
       "      <th>3</th>\n",
       "      <td>ST Jayasuriya (Asia/SL)</td>\n",
       "      <td>32.36</td>\n",
       "      <td>91.20</td>\n",
       "    </tr>\n",
       "    <tr>\n",
       "      <th>4</th>\n",
       "      <td>DPMD Jayawardene (Asia/SL)</td>\n",
       "      <td>33.37</td>\n",
       "      <td>78.96</td>\n",
       "    </tr>\n",
       "  </tbody>\n",
       "</table>\n",
       "</div>"
      ],
      "text/plain": [
       "                        Player    Ave     SR\n",
       "0         SR Tendulkar (INDIA)  44.83  86.23\n",
       "1  KC Sangakkara (Asia/ICC/SL)  41.98  78.86\n",
       "2         RT Ponting (AUS/ICC)  42.03  80.39\n",
       "3      ST Jayasuriya (Asia/SL)  32.36  91.20\n",
       "4   DPMD Jayawardene (Asia/SL)  33.37  78.96"
      ]
     },
     "execution_count": 3,
     "metadata": {},
     "output_type": "execute_result"
    }
   ],
   "source": [
    "cricket=cricket[['Player', 'Ave', 'SR']]\n",
    "cricket.head()"
   ]
  },
  {
   "cell_type": "code",
   "execution_count": 4,
   "id": "556f2eed",
   "metadata": {},
   "outputs": [
    {
     "data": {
      "text/plain": [
       "{'whiskers': [<matplotlib.lines.Line2D at 0x1d19b3f3510>,\n",
       "  <matplotlib.lines.Line2D at 0x1d19b404210>],\n",
       " 'caps': [<matplotlib.lines.Line2D at 0x1d19b404fd0>,\n",
       "  <matplotlib.lines.Line2D at 0x1d19b405cd0>],\n",
       " 'boxes': [<matplotlib.lines.Line2D at 0x1d19b37d610>],\n",
       " 'medians': [<matplotlib.lines.Line2D at 0x1d19b406890>],\n",
       " 'fliers': [<matplotlib.lines.Line2D at 0x1d19b406dd0>],\n",
       " 'means': []}"
      ]
     },
     "execution_count": 4,
     "metadata": {},
     "output_type": "execute_result"
    },
    {
     "data": {
      "image/png": "[encoded data removed]",
      "text/plain": [
       "<Figure size 640x480 with 1 Axes>"
      ]
     },
     "metadata": {},
     "output_type": "display_data"
    }
   ],
   "source": [
    "plt.boxplot(cricket['Ave'])"
   ]
  },
  {
   "cell_type": "code",
   "execution_count": 5,
   "id": "21bc5dac",
   "metadata": {},
   "outputs": [
    {
     "data": {
      "text/plain": [
       "{'whiskers': [<matplotlib.lines.Line2D at 0x1d19bcc2590>,\n",
       "  <matplotlib.lines.Line2D at 0x1d19bcc3050>],\n",
       " 'caps': [<matplotlib.lines.Line2D at 0x1d19bcc3b90>,\n",
       "  <matplotlib.lines.Line2D at 0x1d19bcc8690>],\n",
       " 'boxes': [<matplotlib.lines.Line2D at 0x1d19bcaea10>],\n",
       " 'medians': [<matplotlib.lines.Line2D at 0x1d19bcc91d0>],\n",
       " 'fliers': [<matplotlib.lines.Line2D at 0x1d19b439b90>],\n",
       " 'means': []}"
      ]
     },
     "execution_count": 5,
     "metadata": {},
     "output_type": "execute_result"
    },
    {
     "data": {
      "image/png": "[encoded data removed]",
      "text/plain": [
       "<Figure size 640x480 with 1 Axes>"
      ]
     },
     "metadata": {},
     "output_type": "display_data"
    }
   ],
   "source": [
    "plt.boxplot(cricket['SR'])"
   ]
  },
  {
   "cell_type": "code",
   "execution_count": 6,
   "id": "1e8a723d",
   "metadata": {},
   "outputs": [
    {
     "data": {
      "text/html": [
       "<div>\n",
       "<style scoped>\n",
       "    .dataframe tbody tr th:only-of-type {\n",
       "        vertical-align: middle;\n",
       "    }\n",
       "\n",
       "    .dataframe tbody tr th {\n",
       "        vertical-align: top;\n",
       "    }\n",
       "\n",
       "    .dataframe thead th {\n",
       "        text-align: right;\n",
       "    }\n",
       "</style>\n",
       "<table border=\"1\" class=\"dataframe\">\n",
       "  <thead>\n",
       "    <tr style=\"text-align: right;\">\n",
       "      <th></th>\n",
       "      <th>Ave</th>\n",
       "      <th>SR</th>\n",
       "    </tr>\n",
       "  </thead>\n",
       "  <tbody>\n",
       "    <tr>\n",
       "      <th>0</th>\n",
       "      <td>44.83</td>\n",
       "      <td>86.23</td>\n",
       "    </tr>\n",
       "    <tr>\n",
       "      <th>1</th>\n",
       "      <td>41.98</td>\n",
       "      <td>78.86</td>\n",
       "    </tr>\n",
       "    <tr>\n",
       "      <th>2</th>\n",
       "      <td>42.03</td>\n",
       "      <td>80.39</td>\n",
       "    </tr>\n",
       "    <tr>\n",
       "      <th>3</th>\n",
       "      <td>32.36</td>\n",
       "      <td>91.20</td>\n",
       "    </tr>\n",
       "    <tr>\n",
       "      <th>4</th>\n",
       "      <td>33.37</td>\n",
       "      <td>78.96</td>\n",
       "    </tr>\n",
       "  </tbody>\n",
       "</table>\n",
       "</div>"
      ],
      "text/plain": [
       "     Ave     SR\n",
       "0  44.83  86.23\n",
       "1  41.98  78.86\n",
       "2  42.03  80.39\n",
       "3  32.36  91.20\n",
       "4  33.37  78.96"
      ]
     },
     "execution_count": 6,
     "metadata": {},
     "output_type": "execute_result"
    }
   ],
   "source": [
    "AveSR_df = cricket[['Ave', 'SR']]\n",
    "AveSR_df.head()"
   ]
  },
  {
   "cell_type": "code",
   "execution_count": 7,
   "id": "d98ef273",
   "metadata": {},
   "outputs": [],
   "source": [
    "import sklearn\n",
    "from sklearn.preprocessing import StandardScaler"
   ]
  },
  {
   "cell_type": "code",
   "execution_count": 8,
   "id": "5e4eecee",
   "metadata": {},
   "outputs": [
    {
     "data": {
      "text/plain": [
       "(79, 2)"
      ]
     },
     "execution_count": 8,
     "metadata": {},
     "output_type": "execute_result"
    }
   ],
   "source": [
    "# instantiate the scaler\n",
    "scaler = StandardScaler()\n",
    "\n",
    "# fit transform\n",
    "AveSR_df_scaled = scaler.fit_transform(AveSR_df)\n",
    "AveSR_df_scaled.shape"
   ]
  },
  {
   "cell_type": "code",
   "execution_count": 9,
   "id": "d6ab5012",
   "metadata": {},
   "outputs": [
    {
     "data": {
      "text/plain": [
       "array([[ 1.07229395,  0.70315153],\n",
       "       [ 0.58772461, -0.0441395 ],\n",
       "       [ 0.59622582,  0.1109969 ],\n",
       "       [-1.04790945,  1.20709133],\n",
       "       [-0.87618487, -0.03399986],\n",
       "       [ 0.16946476, -0.51259058],\n",
       "       [ 0.99238251, -0.64947564],\n",
       "       [ 0.42450125, -0.56734461],\n",
       "       [ 0.108256  , -0.8167796 ],\n",
       "       [ 0.33268811,  0.02176813],\n",
       "       [ 0.12695867,  0.70315153],\n",
       "       [ 0.54181804, -0.42538973],\n",
       "       [-0.44772356,  1.78910632],\n",
       "       [ 2.17575185,  0.95258652],\n",
       "       [-0.2725985 , -0.53489778],\n",
       "       [ 2.5549061 ,  2.1247282 ],\n",
       "       [-0.61604765,  0.1860302 ],\n",
       "       [-0.20288853,  0.58958763],\n",
       "       [ 0.11675721,  0.13938788],\n",
       "       [ 0.52311536, -0.86747777],\n",
       "       [-0.3355075 ,  0.84916225],\n",
       "       [ 0.48400977, -1.64315977],\n",
       "       [-0.16208269, -1.17369472],\n",
       "       [ 0.14056062, -0.24287632],\n",
       "       [-0.590544  ,  2.53842527],\n",
       "       [ 2.62121559,  1.1857981 ],\n",
       "       [-0.40691772,  0.4020044 ],\n",
       "       [-2.5424233 ,  3.82311689],\n",
       "       [-1.04110847, -0.79143052],\n",
       "       [ 1.02978787, -0.03197193],\n",
       "       [-0.95609631, -0.3432587 ],\n",
       "       [-0.45622478, -0.14147998],\n",
       "       [ 0.5401178 , -1.24568612],\n",
       "       [-1.2383367 , -0.40612443],\n",
       "       [ 1.99382582,  0.9890892 ],\n",
       "       [-0.95949679, -0.29256053],\n",
       "       [-0.61264716, -0.67482473],\n",
       "       [-0.09237271,  0.15358337],\n",
       "       [ 2.56000683, -0.52070229],\n",
       "       [ 0.41259955, -0.73566253],\n",
       "       [-0.54123694, -0.47710186],\n",
       "       [-0.55993962,  0.24585404],\n",
       "       [ 1.44124674,  1.10569499],\n",
       "       [-0.85068122, -1.1878902 ],\n",
       "       [-1.05301018,  0.10187123],\n",
       "       [-1.34375178, -0.79852826],\n",
       "       [ 0.95157667,  0.2772869 ],\n",
       "       [-0.8693839 , -1.57725215],\n",
       "       [-0.71806225, -0.43248747],\n",
       "       [ 0.89716889, -0.03399986],\n",
       "       [-1.37945689,  1.73131041],\n",
       "       [ 1.0348886 , -0.68293643],\n",
       "       [-0.25219558, -1.43631123],\n",
       "       [-0.58034254,  0.16270904],\n",
       "       [-0.93739363, -0.37671949],\n",
       "       [-1.09381601, -1.62085257],\n",
       "       [ 0.7050414 , -0.36049607],\n",
       "       [ 0.03514554,  0.94548878],\n",
       "       [-0.54123694, -0.27025333],\n",
       "       [ 0.34288957,  1.13003011],\n",
       "       [-0.7044603 , -0.09990748],\n",
       "       [-0.52083402,  1.46666596],\n",
       "       [ 0.01984335, -0.28647675],\n",
       "       [ 0.81215672,  0.85524603],\n",
       "       [ 1.63677472,  0.79745012],\n",
       "       [ 0.66933629,  0.53381964],\n",
       "       [-0.11107539, -0.21651327],\n",
       "       [-0.17908512, -0.96279033],\n",
       "       [ 0.3870959 , -0.15871736],\n",
       "       [-0.62964959, -0.48926942],\n",
       "       [ 0.19666865,  0.60378311],\n",
       "       [-1.3641547 , -1.32984508],\n",
       "       [-0.71806225, -0.3097979 ],\n",
       "       [-1.53587927, -1.89867854],\n",
       "       [ 1.10629881, -1.45760447],\n",
       "       [ 0.82915916, -0.56227479],\n",
       "       [-0.53783646, -0.23476461],\n",
       "       [ 0.20857035,  1.33282279],\n",
       "       [-1.50017416,  0.19819776]])"
      ]
     },
     "execution_count": 9,
     "metadata": {},
     "output_type": "execute_result"
    }
   ],
   "source": [
    "AveSR_df_scaled"
   ]
  },
  {
   "cell_type": "markdown",
   "id": "86527a86",
   "metadata": {},
   "source": [
    "# Modelling"
   ]
  },
  {
   "cell_type": "code",
   "execution_count": 10,
   "id": "5b9cd26a",
   "metadata": {},
   "outputs": [
    {
     "data": {
      "text/html": [
       "<div>\n",
       "<style scoped>\n",
       "    .dataframe tbody tr th:only-of-type {\n",
       "        vertical-align: middle;\n",
       "    }\n",
       "\n",
       "    .dataframe tbody tr th {\n",
       "        vertical-align: top;\n",
       "    }\n",
       "\n",
       "    .dataframe thead th {\n",
       "        text-align: right;\n",
       "    }\n",
       "</style>\n",
       "<table border=\"1\" class=\"dataframe\">\n",
       "  <thead>\n",
       "    <tr style=\"text-align: right;\">\n",
       "      <th></th>\n",
       "      <th>Ave</th>\n",
       "      <th>SR</th>\n",
       "    </tr>\n",
       "  </thead>\n",
       "  <tbody>\n",
       "    <tr>\n",
       "      <th>0</th>\n",
       "      <td>1.072294</td>\n",
       "      <td>0.703152</td>\n",
       "    </tr>\n",
       "    <tr>\n",
       "      <th>1</th>\n",
       "      <td>0.587725</td>\n",
       "      <td>-0.044139</td>\n",
       "    </tr>\n",
       "    <tr>\n",
       "      <th>2</th>\n",
       "      <td>0.596226</td>\n",
       "      <td>0.110997</td>\n",
       "    </tr>\n",
       "    <tr>\n",
       "      <th>3</th>\n",
       "      <td>-1.047909</td>\n",
       "      <td>1.207091</td>\n",
       "    </tr>\n",
       "    <tr>\n",
       "      <th>4</th>\n",
       "      <td>-0.876185</td>\n",
       "      <td>-0.034000</td>\n",
       "    </tr>\n",
       "  </tbody>\n",
       "</table>\n",
       "</div>"
      ],
      "text/plain": [
       "        Ave        SR\n",
       "0  1.072294  0.703152\n",
       "1  0.587725 -0.044139\n",
       "2  0.596226  0.110997\n",
       "3 -1.047909  1.207091\n",
       "4 -0.876185 -0.034000"
      ]
     },
     "execution_count": 10,
     "metadata": {},
     "output_type": "execute_result"
    }
   ],
   "source": [
    "avesr_df = pd.DataFrame(AveSR_df_scaled)\n",
    "avesr_df.columns=['Ave', 'SR']\n",
    "avesr_df.head()"
   ]
  },
  {
   "cell_type": "code",
   "execution_count": 11,
   "id": "ab5db7e6",
   "metadata": {},
   "outputs": [
    {
     "data": {
      "text/plain": [
       "(79, 2)"
      ]
     },
     "execution_count": 11,
     "metadata": {},
     "output_type": "execute_result"
    }
   ],
   "source": [
    "avesr_df.shape"
   ]
  },
  {
   "cell_type": "code",
   "execution_count": 12,
   "id": "3799d017",
   "metadata": {},
   "outputs": [],
   "source": [
    "from sklearn.cluster import KMeans"
   ]
  },
  {
   "cell_type": "code",
   "execution_count": 13,
   "id": "86334317",
   "metadata": {},
   "outputs": [
    {
     "name": "stderr",
     "output_type": "stream",
     "text": [
      "C:\\Users\\Prem\\anaconda3\\Lib\\site-packages\\sklearn\\cluster\\_kmeans.py:1412: FutureWarning: The default value of `n_init` will change from 10 to 'auto' in 1.4. Set the value of `n_init` explicitly to suppress the warning\n",
      "  super()._check_params_vs_input(X, default_n_init=10)\n",
      "C:\\Users\\Prem\\anaconda3\\Lib\\site-packages\\sklearn\\cluster\\_kmeans.py:1436: UserWarning: KMeans is known to have a memory leak on Windows with MKL, when there are less chunks than available threads. You can avoid it by setting the environment variable OMP_NUM_THREADS=1.\n",
      "  warnings.warn(\n"
     ]
    },
    {
     "data": {
      "text/html": [
       "<style>#sk-container-id-1 {color: black;}#sk-container-id-1 pre{padding: 0;}#sk-container-id-1 div.sk-toggleable {background-color: white;}#sk-container-id-1 label.sk-toggleable__label {cursor: pointer;display: block;width: 100%;margin-bottom: 0;padding: 0.3em;box-sizing: border-box;text-align: center;}#sk-container-id-1 label.sk-toggleable__label-arrow:before {content: \"▸\";float: left;margin-right: 0.25em;color: #696969;}#sk-container-id-1 label.sk-toggleable__label-arrow:hover:before {color: black;}#sk-container-id-1 div.sk-estimator:hover label.sk-toggleable__label-arrow:before {color: black;}#sk-container-id-1 div.sk-toggleable__content {max-height: 0;max-width: 0;overflow: hidden;text-align: left;background-color: #f0f8ff;}#sk-container-id-1 div.sk-toggleable__content pre {margin: 0.2em;color: black;border-radius: 0.25em;background-color: #f0f8ff;}#sk-container-id-1 input.sk-toggleable__control:checked~div.sk-toggleable__content {max-height: 200px;max-width: 100%;overflow: auto;}#sk-container-id-1 input.sk-toggleable__control:checked~label.sk-toggleable__label-arrow:before {content: \"▾\";}#sk-container-id-1 div.sk-estimator input.sk-toggleable__control:checked~label.sk-toggleable__label {background-color: #d4ebff;}#sk-container-id-1 div.sk-label input.sk-toggleable__control:checked~label.sk-toggleable__label {background-color: #d4ebff;}#sk-container-id-1 input.sk-hidden--visually {border: 0;clip: rect(1px 1px 1px 1px);clip: rect(1px, 1px, 1px, 1px);height: 1px;margin: -1px;overflow: hidden;padding: 0;position: absolute;width: 1px;}#sk-container-id-1 div.sk-estimator {font-family: monospace;background-color: #f0f8ff;border: 1px dotted black;border-radius: 0.25em;box-sizing: border-box;margin-bottom: 0.5em;}#sk-container-id-1 div.sk-estimator:hover {background-color: #d4ebff;}#sk-container-id-1 div.sk-parallel-item::after {content: \"\";width: 100%;border-bottom: 1px solid gray;flex-grow: 1;}#sk-container-id-1 div.sk-label:hover label.sk-toggleable__label {background-color: #d4ebff;}#sk-container-id-1 div.sk-serial::before {content: \"\";position: absolute;border-left: 1px solid gray;box-sizing: border-box;top: 0;bottom: 0;left: 50%;z-index: 0;}#sk-container-id-1 div.sk-serial {display: flex;flex-direction: column;align-items: center;background-color: white;padding-right: 0.2em;padding-left: 0.2em;position: relative;}#sk-container-id-1 div.sk-item {position: relative;z-index: 1;}#sk-container-id-1 div.sk-parallel {display: flex;align-items: stretch;justify-content: center;background-color: white;position: relative;}#sk-container-id-1 div.sk-item::before, #sk-container-id-1 div.sk-parallel-item::before {content: \"\";position: absolute;border-left: 1px solid gray;box-sizing: border-box;top: 0;bottom: 0;left: 50%;z-index: -1;}#sk-container-id-1 div.sk-parallel-item {display: flex;flex-direction: column;z-index: 1;position: relative;background-color: white;}#sk-container-id-1 div.sk-parallel-item:first-child::after {align-self: flex-end;width: 50%;}#sk-container-id-1 div.sk-parallel-item:last-child::after {align-self: flex-start;width: 50%;}#sk-container-id-1 div.sk-parallel-item:only-child::after {width: 0;}#sk-container-id-1 div.sk-dashed-wrapped {border: 1px dashed gray;margin: 0 0.4em 0.5em 0.4em;box-sizing: border-box;padding-bottom: 0.4em;background-color: white;}#sk-container-id-1 div.sk-label label {font-family: monospace;font-weight: bold;display: inline-block;line-height: 1.2em;}#sk-container-id-1 div.sk-label-container {text-align: center;}#sk-container-id-1 div.sk-container {/* jupyter's `normalize.less` sets `[hidden] { display: none; }` but bootstrap.min.css set `[hidden] { display: none !important; }` so we also need the `!important` here to be able to override the default hidden behavior on the sphinx rendered scikit-learn.org. See: https://github.com/scikit-learn/scikit-learn/issues/21755 */display: inline-block !important;position: relative;}#sk-container-id-1 div.sk-text-repr-fallback {display: none;}</style><div id=\"sk-container-id-1\" class=\"sk-top-container\"><div class=\"sk-text-repr-fallback\"><pre>KMeans(max_iter=50, n_clusters=4)</pre><b>In a Jupyter environment, please rerun this cell to show the HTML representation or trust the notebook. <br />On GitHub, the HTML representation is unable to render, please try loading this page with nbviewer.org.</b></div><div class=\"sk-container\" hidden><div class=\"sk-item\"><div class=\"sk-estimator sk-toggleable\"><input class=\"sk-toggleable__control sk-hidden--visually\" id=\"sk-estimator-id-1\" type=\"checkbox\" checked><label for=\"sk-estimator-id-1\" class=\"sk-toggleable__label sk-toggleable__label-arrow\">KMeans</label><div class=\"sk-toggleable__content\"><pre>KMeans(max_iter=50, n_clusters=4)</pre></div></div></div></div></div>"
      ],
      "text/plain": [
       "KMeans(max_iter=50, n_clusters=4)"
      ]
     },
     "execution_count": 13,
     "metadata": {},
     "output_type": "execute_result"
    }
   ],
   "source": [
    "kmeans=KMeans(n_clusters=4, max_iter=50)\n",
    "kmeans.fit(avesr_df)"
   ]
  },
  {
   "cell_type": "code",
   "execution_count": 14,
   "id": "1e64bdb6",
   "metadata": {},
   "outputs": [
    {
     "data": {
      "text/plain": [
       "array([1, 3, 3, 2, 0, 3, 3, 3, 3, 3, 2, 3, 2, 1, 0, 1, 0, 2, 3, 3, 2, 3,\n",
       "       0, 3, 2, 1, 0, 2, 0, 3, 0, 0, 3, 0, 1, 0, 0, 3, 1, 3, 0, 0, 1, 0,\n",
       "       0, 0, 3, 0, 0, 3, 2, 3, 0, 0, 0, 0, 3, 2, 0, 2, 0, 2, 3, 1, 1, 3,\n",
       "       3, 0, 3, 0, 3, 0, 0, 0, 3, 3, 0, 2, 0])"
      ]
     },
     "execution_count": 14,
     "metadata": {},
     "output_type": "execute_result"
    }
   ],
   "source": [
    "kmeans.labels_"
   ]
  },
  {
   "cell_type": "code",
   "execution_count": 15,
   "id": "ef75a42b",
   "metadata": {},
   "outputs": [
    {
     "data": {
      "text/html": [
       "<div>\n",
       "<style scoped>\n",
       "    .dataframe tbody tr th:only-of-type {\n",
       "        vertical-align: middle;\n",
       "    }\n",
       "\n",
       "    .dataframe tbody tr th {\n",
       "        vertical-align: top;\n",
       "    }\n",
       "\n",
       "    .dataframe thead th {\n",
       "        text-align: right;\n",
       "    }\n",
       "</style>\n",
       "<table border=\"1\" class=\"dataframe\">\n",
       "  <thead>\n",
       "    <tr style=\"text-align: right;\">\n",
       "      <th></th>\n",
       "      <th>Player</th>\n",
       "      <th>Ave</th>\n",
       "      <th>SR</th>\n",
       "      <th>cluster_id</th>\n",
       "    </tr>\n",
       "  </thead>\n",
       "  <tbody>\n",
       "    <tr>\n",
       "      <th>0</th>\n",
       "      <td>SR Tendulkar (INDIA)</td>\n",
       "      <td>44.83</td>\n",
       "      <td>86.23</td>\n",
       "      <td>1</td>\n",
       "    </tr>\n",
       "    <tr>\n",
       "      <th>1</th>\n",
       "      <td>KC Sangakkara (Asia/ICC/SL)</td>\n",
       "      <td>41.98</td>\n",
       "      <td>78.86</td>\n",
       "      <td>3</td>\n",
       "    </tr>\n",
       "    <tr>\n",
       "      <th>2</th>\n",
       "      <td>RT Ponting (AUS/ICC)</td>\n",
       "      <td>42.03</td>\n",
       "      <td>80.39</td>\n",
       "      <td>3</td>\n",
       "    </tr>\n",
       "    <tr>\n",
       "      <th>3</th>\n",
       "      <td>ST Jayasuriya (Asia/SL)</td>\n",
       "      <td>32.36</td>\n",
       "      <td>91.20</td>\n",
       "      <td>2</td>\n",
       "    </tr>\n",
       "    <tr>\n",
       "      <th>4</th>\n",
       "      <td>DPMD Jayawardene (Asia/SL)</td>\n",
       "      <td>33.37</td>\n",
       "      <td>78.96</td>\n",
       "      <td>0</td>\n",
       "    </tr>\n",
       "  </tbody>\n",
       "</table>\n",
       "</div>"
      ],
      "text/plain": [
       "                        Player    Ave     SR  cluster_id\n",
       "0         SR Tendulkar (INDIA)  44.83  86.23           1\n",
       "1  KC Sangakkara (Asia/ICC/SL)  41.98  78.86           3\n",
       "2         RT Ponting (AUS/ICC)  42.03  80.39           3\n",
       "3      ST Jayasuriya (Asia/SL)  32.36  91.20           2\n",
       "4   DPMD Jayawardene (Asia/SL)  33.37  78.96           0"
      ]
     },
     "execution_count": 15,
     "metadata": {},
     "output_type": "execute_result"
    }
   ],
   "source": [
    "# assign the label\n",
    "cricket['cluster_id'] = kmeans.labels_\n",
    "cricket.head()"
   ]
  },
  {
   "cell_type": "code",
   "execution_count": 16,
   "id": "ef26f046",
   "metadata": {},
   "outputs": [
    {
     "name": "stdout",
     "output_type": "stream",
     "text": [
      "             Player    Ave     SR  cluster_id\n",
      "25  V Kohli (INDIA)  53.94  90.99           1\n"
     ]
    }
   ],
   "source": [
    "selected_row=cricket[cricket['Player']=='V Kohli (INDIA)']\n",
    "print(selected_row)"
   ]
  },
  {
   "cell_type": "code",
   "execution_count": 17,
   "id": "d1f7976a",
   "metadata": {},
   "outputs": [],
   "source": [
    "cricket.to_csv('Cricket_Cluster.csv', index=False)"
   ]
  },
  {
   "cell_type": "code",
   "execution_count": 18,
   "id": "77a35d41",
   "metadata": {},
   "outputs": [],
   "source": [
    "centroids = kmeans.cluster_centers_"
   ]
  },
  {
   "cell_type": "code",
   "execution_count": null,
   "id": "4e0bc039",
   "metadata": {},
   "outputs": [],
   "source": []
  },
  {
   "cell_type": "code",
   "execution_count": 19,
   "id": "fe71a089",
   "metadata": {},
   "outputs": [
    {
     "data": {
      "image/png": "[encoded data removed]",
      "text/plain": [
       "<Figure size 640x480 with 1 Axes>"
      ]
     },
     "metadata": {},
     "output_type": "display_data"
    }
   ],
   "source": [
    "for cluster_id, group in cricket.groupby('cluster_id'):\n",
    "    plt.scatter(group['Ave'], group['SR'], label=f'Cluster {cluster_id}')\n",
    "\n",
    "plt.xlabel('Average (Ave)')\n",
    "plt.ylabel('Strike Rate (SR)')\n",
    "plt.title('Cluster Chart')\n",
    "plt.legend()\n",
    "plt.grid(True)\n",
    "plt.show()"
   ]
  },
  {
   "cell_type": "markdown",
   "id": "564a80e6",
   "metadata": {},
   "source": [
    "# Hierarchical Clustering"
   ]
  },
  {
   "cell_type": "code",
   "execution_count": 24,
   "id": "009442bf",
   "metadata": {},
   "outputs": [
    {
     "data": {
      "text/html": [
       "<div>\n",
       "<style scoped>\n",
       "    .dataframe tbody tr th:only-of-type {\n",
       "        vertical-align: middle;\n",
       "    }\n",
       "\n",
       "    .dataframe tbody tr th {\n",
       "        vertical-align: top;\n",
       "    }\n",
       "\n",
       "    .dataframe thead th {\n",
       "        text-align: right;\n",
       "    }\n",
       "</style>\n",
       "<table border=\"1\" class=\"dataframe\">\n",
       "  <thead>\n",
       "    <tr style=\"text-align: right;\">\n",
       "      <th></th>\n",
       "      <th>Player</th>\n",
       "      <th>Span</th>\n",
       "      <th>Mat</th>\n",
       "      <th>Inns</th>\n",
       "      <th>NO</th>\n",
       "      <th>Runs</th>\n",
       "      <th>HS</th>\n",
       "      <th>Ave</th>\n",
       "      <th>BF</th>\n",
       "      <th>SR</th>\n",
       "      <th>100</th>\n",
       "      <th>50</th>\n",
       "      <th>0</th>\n",
       "    </tr>\n",
       "  </thead>\n",
       "  <tbody>\n",
       "    <tr>\n",
       "      <th>0</th>\n",
       "      <td>SR Tendulkar (INDIA)</td>\n",
       "      <td>1989-2012</td>\n",
       "      <td>463</td>\n",
       "      <td>452</td>\n",
       "      <td>41</td>\n",
       "      <td>18426</td>\n",
       "      <td>200*</td>\n",
       "      <td>44.83</td>\n",
       "      <td>21367</td>\n",
       "      <td>86.23</td>\n",
       "      <td>49</td>\n",
       "      <td>96</td>\n",
       "      <td>20</td>\n",
       "    </tr>\n",
       "    <tr>\n",
       "      <th>1</th>\n",
       "      <td>KC Sangakkara (Asia/ICC/SL)</td>\n",
       "      <td>2000-2015</td>\n",
       "      <td>404</td>\n",
       "      <td>380</td>\n",
       "      <td>41</td>\n",
       "      <td>14234</td>\n",
       "      <td>169</td>\n",
       "      <td>41.98</td>\n",
       "      <td>18048</td>\n",
       "      <td>78.86</td>\n",
       "      <td>25</td>\n",
       "      <td>93</td>\n",
       "      <td>15</td>\n",
       "    </tr>\n",
       "    <tr>\n",
       "      <th>2</th>\n",
       "      <td>RT Ponting (AUS/ICC)</td>\n",
       "      <td>1995-2012</td>\n",
       "      <td>375</td>\n",
       "      <td>365</td>\n",
       "      <td>39</td>\n",
       "      <td>13704</td>\n",
       "      <td>164</td>\n",
       "      <td>42.03</td>\n",
       "      <td>17046</td>\n",
       "      <td>80.39</td>\n",
       "      <td>30</td>\n",
       "      <td>82</td>\n",
       "      <td>20</td>\n",
       "    </tr>\n",
       "    <tr>\n",
       "      <th>3</th>\n",
       "      <td>ST Jayasuriya (Asia/SL)</td>\n",
       "      <td>1989-2011</td>\n",
       "      <td>445</td>\n",
       "      <td>433</td>\n",
       "      <td>18</td>\n",
       "      <td>13430</td>\n",
       "      <td>189</td>\n",
       "      <td>32.36</td>\n",
       "      <td>14725</td>\n",
       "      <td>91.20</td>\n",
       "      <td>28</td>\n",
       "      <td>68</td>\n",
       "      <td>34</td>\n",
       "    </tr>\n",
       "    <tr>\n",
       "      <th>4</th>\n",
       "      <td>DPMD Jayawardene (Asia/SL)</td>\n",
       "      <td>1998-2015</td>\n",
       "      <td>448</td>\n",
       "      <td>418</td>\n",
       "      <td>39</td>\n",
       "      <td>12650</td>\n",
       "      <td>144</td>\n",
       "      <td>33.37</td>\n",
       "      <td>16020</td>\n",
       "      <td>78.96</td>\n",
       "      <td>19</td>\n",
       "      <td>77</td>\n",
       "      <td>28</td>\n",
       "    </tr>\n",
       "  </tbody>\n",
       "</table>\n",
       "</div>"
      ],
      "text/plain": [
       "                        Player       Span  Mat  Inns  NO   Runs    HS    Ave  \\\n",
       "0         SR Tendulkar (INDIA)  1989-2012  463   452  41  18426  200*  44.83   \n",
       "1  KC Sangakkara (Asia/ICC/SL)  2000-2015  404   380  41  14234   169  41.98   \n",
       "2         RT Ponting (AUS/ICC)  1995-2012  375   365  39  13704   164  42.03   \n",
       "3      ST Jayasuriya (Asia/SL)  1989-2011  445   433  18  13430   189  32.36   \n",
       "4   DPMD Jayawardene (Asia/SL)  1998-2015  448   418  39  12650   144  33.37   \n",
       "\n",
       "      BF     SR  100  50   0  \n",
       "0  21367  86.23   49  96  20  \n",
       "1  18048  78.86   25  93  15  \n",
       "2  17046  80.39   30  82  20  \n",
       "3  14725  91.20   28  68  34  \n",
       "4  16020  78.96   19  77  28  "
      ]
     },
     "execution_count": 24,
     "metadata": {},
     "output_type": "execute_result"
    }
   ],
   "source": [
    "cric_hier=pd.read_csv(r'E:\\Data Science\\Upgrad\\ML\\K Means Clustering\\Cricket_Hierarchy.csv', sep=\",\", encoding=\"ISO-8859-1\", header=0)\n",
    "cric_hier.head()"
   ]
  },
  {
   "cell_type": "code",
   "execution_count": 26,
   "id": "d4804a8b",
   "metadata": {},
   "outputs": [
    {
     "data": {
      "text/html": [
       "<div>\n",
       "<style scoped>\n",
       "    .dataframe tbody tr th:only-of-type {\n",
       "        vertical-align: middle;\n",
       "    }\n",
       "\n",
       "    .dataframe tbody tr th {\n",
       "        vertical-align: top;\n",
       "    }\n",
       "\n",
       "    .dataframe thead th {\n",
       "        text-align: right;\n",
       "    }\n",
       "</style>\n",
       "<table border=\"1\" class=\"dataframe\">\n",
       "  <thead>\n",
       "    <tr style=\"text-align: right;\">\n",
       "      <th></th>\n",
       "      <th>Player</th>\n",
       "      <th>Ave</th>\n",
       "      <th>SR</th>\n",
       "    </tr>\n",
       "  </thead>\n",
       "  <tbody>\n",
       "    <tr>\n",
       "      <th>0</th>\n",
       "      <td>SR Tendulkar (INDIA)</td>\n",
       "      <td>44.83</td>\n",
       "      <td>86.23</td>\n",
       "    </tr>\n",
       "    <tr>\n",
       "      <th>1</th>\n",
       "      <td>KC Sangakkara (Asia/ICC/SL)</td>\n",
       "      <td>41.98</td>\n",
       "      <td>78.86</td>\n",
       "    </tr>\n",
       "    <tr>\n",
       "      <th>2</th>\n",
       "      <td>RT Ponting (AUS/ICC)</td>\n",
       "      <td>42.03</td>\n",
       "      <td>80.39</td>\n",
       "    </tr>\n",
       "    <tr>\n",
       "      <th>3</th>\n",
       "      <td>ST Jayasuriya (Asia/SL)</td>\n",
       "      <td>32.36</td>\n",
       "      <td>91.20</td>\n",
       "    </tr>\n",
       "    <tr>\n",
       "      <th>4</th>\n",
       "      <td>DPMD Jayawardene (Asia/SL)</td>\n",
       "      <td>33.37</td>\n",
       "      <td>78.96</td>\n",
       "    </tr>\n",
       "  </tbody>\n",
       "</table>\n",
       "</div>"
      ],
      "text/plain": [
       "                        Player    Ave     SR\n",
       "0         SR Tendulkar (INDIA)  44.83  86.23\n",
       "1  KC Sangakkara (Asia/ICC/SL)  41.98  78.86\n",
       "2         RT Ponting (AUS/ICC)  42.03  80.39\n",
       "3      ST Jayasuriya (Asia/SL)  32.36  91.20\n",
       "4   DPMD Jayawardene (Asia/SL)  33.37  78.96"
      ]
     },
     "execution_count": 26,
     "metadata": {},
     "output_type": "execute_result"
    }
   ],
   "source": [
    "cric_hier=cric_hier[['Player', 'Ave', 'SR']]\n",
    "cric_hier.head()"
   ]
  },
  {
   "cell_type": "code",
   "execution_count": 28,
   "id": "df7a9ea0",
   "metadata": {},
   "outputs": [],
   "source": [
    "from scipy.cluster.hierarchy import linkage\n",
    "from scipy.cluster.hierarchy import dendrogram\n",
    "from scipy.cluster.hierarchy import cut_tree"
   ]
  },
  {
   "cell_type": "code",
   "execution_count": 30,
   "id": "fae270fa",
   "metadata": {},
   "outputs": [
    {
     "data": {
      "text/html": [
       "<div>\n",
       "<style scoped>\n",
       "    .dataframe tbody tr th:only-of-type {\n",
       "        vertical-align: middle;\n",
       "    }\n",
       "\n",
       "    .dataframe tbody tr th {\n",
       "        vertical-align: top;\n",
       "    }\n",
       "\n",
       "    .dataframe thead th {\n",
       "        text-align: right;\n",
       "    }\n",
       "</style>\n",
       "<table border=\"1\" class=\"dataframe\">\n",
       "  <thead>\n",
       "    <tr style=\"text-align: right;\">\n",
       "      <th></th>\n",
       "      <th>Ave</th>\n",
       "      <th>SR</th>\n",
       "    </tr>\n",
       "  </thead>\n",
       "  <tbody>\n",
       "    <tr>\n",
       "      <th>0</th>\n",
       "      <td>1.072294</td>\n",
       "      <td>0.703152</td>\n",
       "    </tr>\n",
       "    <tr>\n",
       "      <th>1</th>\n",
       "      <td>0.587725</td>\n",
       "      <td>-0.044139</td>\n",
       "    </tr>\n",
       "    <tr>\n",
       "      <th>2</th>\n",
       "      <td>0.596226</td>\n",
       "      <td>0.110997</td>\n",
       "    </tr>\n",
       "    <tr>\n",
       "      <th>3</th>\n",
       "      <td>-1.047909</td>\n",
       "      <td>1.207091</td>\n",
       "    </tr>\n",
       "    <tr>\n",
       "      <th>4</th>\n",
       "      <td>-0.876185</td>\n",
       "      <td>-0.034000</td>\n",
       "    </tr>\n",
       "  </tbody>\n",
       "</table>\n",
       "</div>"
      ],
      "text/plain": [
       "        Ave        SR\n",
       "0  1.072294  0.703152\n",
       "1  0.587725 -0.044139\n",
       "2  0.596226  0.110997\n",
       "3 -1.047909  1.207091\n",
       "4 -0.876185 -0.034000"
      ]
     },
     "execution_count": 30,
     "metadata": {},
     "output_type": "execute_result"
    }
   ],
   "source": [
    "avesr_df.head()"
   ]
  },
  {
   "cell_type": "markdown",
   "id": "8305d8a7",
   "metadata": {},
   "source": [
    "cricket.head()"
   ]
  },
  {
   "cell_type": "code",
   "execution_count": 32,
   "id": "8e75420f",
   "metadata": {},
   "outputs": [
    {
     "data": {
      "image/png": "[encoded data removed]",
      "text/plain": [
       "<Figure size 640x480 with 1 Axes>"
      ]
     },
     "metadata": {},
     "output_type": "display_data"
    }
   ],
   "source": [
    "# single linkage\n",
    "mergings=linkage(avesr_df, method='single', metric='euclidean')\n",
    "dendrogram(mergings)\n",
    "plt.show()"
   ]
  },
  {
   "cell_type": "code",
   "execution_count": null,
   "id": "8696b868",
   "metadata": {},
   "outputs": [],
   "source": [
    "#complete linkage"
   ]
  },
  {
   "cell_type": "markdown",
   "id": "c61d9fe0",
   "metadata": {},
   "source": [
    "## mergings=linkage(avesr_df, method='complete', metric='euclidean')\n",
    "dendrogram(mergings)\n",
    "plt.show()"
   ]
  },
  {
   "cell_type": "code",
   "execution_count": null,
   "id": "15d8adf3",
   "metadata": {},
   "outputs": [],
   "source": []
  },
  {
   "cell_type": "code",
   "execution_count": null,
   "id": "274864f0",
   "metadata": {},
   "outputs": [],
   "source": []
  },
  {
   "cell_type": "code",
   "execution_count": null,
   "id": "76a7e513",
   "metadata": {},
   "outputs": [],
   "source": []
  }
 ],
 "metadata": {
  "kernelspec": {
   "display_name": "Python 3 (ipykernel)",
   "language": "python",
   "name": "python3"
  },
  "language_info": {
   "codemirror_mode": {
    "name": "ipython",
    "version": 3
   },
   "file_extension": ".py",
   "mimetype": "text/x-python",
   "name": "python",
   "nbconvert_exporter": "python",
   "pygments_lexer": "ipython3",
   "version": "3.11.7"
  }
 },
 "nbformat": 4,
 "nbformat_minor": 5
}
